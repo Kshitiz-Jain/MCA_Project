{
  "nbformat": 4,
  "nbformat_minor": 0,
  "metadata": {
    "kernelspec": {
      "name": "python3",
      "display_name": "Python 3"
    },
    "language_info": {
      "codemirror_mode": {
        "name": "ipython",
        "version": 3
      },
      "file_extension": ".py",
      "mimetype": "text/x-python",
      "name": "python",
      "nbconvert_exporter": "python",
      "pygments_lexer": "ipython3",
      "version": "3.7.4"
    },
    "colab": {
      "name": "multi-input-models.ipynb",
      "provenance": [],
      "collapsed_sections": [
        "iG_TCOnZkgi_",
        "HoX5Urbjkgjf"
      ],
      "toc_visible": true
    },
    "accelerator": "TPU"
  },
  "cells": [
    {
      "cell_type": "markdown",
      "metadata": {
        "id": "UiZqYuM1kgf9",
        "colab_type": "text"
      },
      "source": [
        "# Multi-Input Models Learning\n",
        "## A multi-model deep learning approach for image recognition\n",
        "\n",
        "#### This Jupyter notebook is for the article [Deep Multi-Input Models Transfer Learning for Image and Word Tag Recognition](https://towardsdatascience.com/deep-multi-input-models-transfer-learning-for-image-and-word-tag-recognition-7ae0462253dc) in Towards Data Science.\n"
      ]
    },
    {
      "cell_type": "code",
      "metadata": {
        "id": "asP0QDAnkggC",
        "colab_type": "code",
        "colab": {}
      },
      "source": [
        "import numpy as np\n",
        "import pandas as pd\n",
        "import matplotlib.pyplot as plt\n",
        "import os, shutil\n",
        "import cv2\n",
        "from os import listdir\n",
        "from os.path import isfile, join\n",
        "import string\n",
        "import re\n",
        "import nltk\n",
        "from keras import layers\n",
        "from keras import Input\n",
        "from keras.models import Model\n",
        "from keras import models\n",
        "\n",
        "%matplotlib inline"
      ],
      "execution_count": 0,
      "outputs": []
    },
    {
      "cell_type": "code",
      "metadata": {
        "id": "Ml-CuyOSkggQ",
        "colab_type": "code",
        "colab": {}
      },
      "source": [
        "#original_dataset_dir = '/Users/yuhuang/yuefeng/machine-learning/deep_learning/multi_input_models_learning/data/ESPGame100k'\n",
        "#base_dataset_dir = '/Users/yuhuang/yuefeng/machine-learning/deep_learning/multi_input_models_learning/data/ESPGame100k_small'"
      ],
      "execution_count": 0,
      "outputs": []
    },
    {
      "cell_type": "code",
      "metadata": {
        "id": "VfJDx6kUlVOY",
        "colab_type": "code",
        "outputId": "953c4e39-99c7-4318-dc18-899d9b2f7537",
        "colab": {
          "base_uri": "https://localhost:8080/",
          "height": 59
        }
      },
      "source": [
        "from google.colab import drive\n",
        "drive.mount('/content/drive')"
      ],
      "execution_count": 0,
      "outputs": [
        {
          "output_type": "stream",
          "text": [
            "Drive already mounted at /content/drive; to attempt to forcibly remount, call drive.mount(\"/content/drive\", force_remount=True).\n"
          ],
          "name": "stdout"
        }
      ]
    },
    {
      "cell_type": "code",
      "metadata": {
        "id": "HvM1o24moUAT",
        "colab_type": "code",
        "outputId": "8b80d96a-a1e5-4993-e410-34b9a359dd8b",
        "colab": {
          "base_uri": "https://localhost:8080/",
          "height": 68
        }
      },
      "source": [
        "!pwd\n",
        "%cd drive\n",
        "!ls"
      ],
      "execution_count": 0,
      "outputs": [
        {
          "output_type": "stream",
          "text": [
            "/content\n",
            "/content/drive\n",
            "'My Drive'\n"
          ],
          "name": "stdout"
        }
      ]
    },
    {
      "cell_type": "code",
      "metadata": {
        "id": "HEWsEouEpUTI",
        "colab_type": "code",
        "outputId": "4798d893-83a2-418b-83d9-36d4de47e178",
        "colab": {
          "base_uri": "https://localhost:8080/",
          "height": 34
        }
      },
      "source": [
        "%cd 'My Drive'"
      ],
      "execution_count": 0,
      "outputs": [
        {
          "output_type": "stream",
          "text": [
            "/content/drive/My Drive\n"
          ],
          "name": "stdout"
        }
      ]
    },
    {
      "cell_type": "code",
      "metadata": {
        "id": "_oF47URYpXDj",
        "colab_type": "code",
        "outputId": "d72a7c82-9ea5-48bb-8d55-948c19d15aa4",
        "colab": {
          "base_uri": "https://localhost:8080/",
          "height": 51
        }
      },
      "source": [
        "%cd images/\n",
        "%cd train/"
      ],
      "execution_count": 0,
      "outputs": [
        {
          "output_type": "stream",
          "text": [
            "/content/drive/My Drive/images\n",
            "/content/drive/My Drive/images/train\n"
          ],
          "name": "stdout"
        }
      ]
    },
    {
      "cell_type": "code",
      "metadata": {
        "id": "HAqWK9nUpfij",
        "colab_type": "code",
        "colab": {}
      },
      "source": [
        "import cv2\n",
        "import os\n",
        "images_list = listdir()\n",
        "train = []\n",
        "for i in images_list:\n",
        "  train.append(cv2.imread(i))\n"
      ],
      "execution_count": 0,
      "outputs": []
    },
    {
      "cell_type": "code",
      "metadata": {
        "id": "OoxTU6UoraWp",
        "colab_type": "code",
        "outputId": "9909ecb2-2d62-4396-dbc9-1522d640c939",
        "colab": {
          "base_uri": "https://localhost:8080/",
          "height": 34
        }
      },
      "source": [
        "len(train)"
      ],
      "execution_count": 0,
      "outputs": [
        {
          "output_type": "execute_result",
          "data": {
            "text/plain": [
              "716"
            ]
          },
          "metadata": {
            "tags": []
          },
          "execution_count": 9
        }
      ]
    },
    {
      "cell_type": "code",
      "metadata": {
        "id": "tTH9LJ4Hrqh3",
        "colab_type": "code",
        "outputId": "2b72c010-be68-47ab-bf58-ce93a4cefb35",
        "colab": {
          "base_uri": "https://localhost:8080/",
          "height": 34
        }
      },
      "source": [
        "%cd ../test/"
      ],
      "execution_count": 0,
      "outputs": [
        {
          "output_type": "stream",
          "text": [
            "/content/drive/My Drive/images/test\n"
          ],
          "name": "stdout"
        }
      ]
    },
    {
      "cell_type": "code",
      "metadata": {
        "id": "U2PX4oP4S3ZK",
        "colab_type": "code",
        "colab": {}
      },
      "source": [
        "images_list = listdir()\n",
        "test = []\n",
        "for i in images_list:\n",
        "  test.append(cv2.imread(i))"
      ],
      "execution_count": 0,
      "outputs": []
    },
    {
      "cell_type": "code",
      "metadata": {
        "id": "XCO_K8WZU_tH",
        "colab_type": "code",
        "outputId": "fed7e04f-bcd3-4347-a74e-71ecef4ebf68",
        "colab": {
          "base_uri": "https://localhost:8080/",
          "height": 34
        }
      },
      "source": [
        "len(test)"
      ],
      "execution_count": 0,
      "outputs": [
        {
          "output_type": "execute_result",
          "data": {
            "text/plain": [
              "213"
            ]
          },
          "metadata": {
            "tags": []
          },
          "execution_count": 13
        }
      ]
    },
    {
      "cell_type": "code",
      "metadata": {
        "id": "WHTe6CK4TCsM",
        "colab_type": "code",
        "outputId": "d7a01d6c-13c4-4c47-b336-ea954c68afcd",
        "colab": {
          "base_uri": "https://localhost:8080/",
          "height": 34
        }
      },
      "source": [
        "%cd ../val/\n",
        "images_list = listdir()\n",
        "val = []\n",
        "for i in images_list:\n",
        "  val.append(cv2.imread(i))"
      ],
      "execution_count": 0,
      "outputs": [
        {
          "output_type": "stream",
          "text": [
            "/content/drive/My Drive/images/val\n"
          ],
          "name": "stdout"
        }
      ]
    },
    {
      "cell_type": "code",
      "metadata": {
        "id": "QFZdoX6OVC12",
        "colab_type": "code",
        "outputId": "f4671b08-3bcb-4c60-894a-ba947c3bb96f",
        "colab": {
          "base_uri": "https://localhost:8080/",
          "height": 34
        }
      },
      "source": [
        "len(val)"
      ],
      "execution_count": 0,
      "outputs": [
        {
          "output_type": "execute_result",
          "data": {
            "text/plain": [
              "131"
            ]
          },
          "metadata": {
            "tags": []
          },
          "execution_count": 15
        }
      ]
    },
    {
      "cell_type": "code",
      "metadata": {
        "id": "BLI1po1vrd12",
        "colab_type": "code",
        "outputId": "a32c18e2-10af-415a-a8a9-6a2fc60ef4f5",
        "colab": {
          "base_uri": "https://localhost:8080/",
          "height": 34
        }
      },
      "source": [
        "%cd ../../\n",
        "import pickle\n",
        "file = open('ingr.pkl','rb')\n",
        "ingredients = pickle.load(file)\n",
        "file.close()"
      ],
      "execution_count": 0,
      "outputs": [
        {
          "output_type": "stream",
          "text": [
            "/content/drive/My Drive\n"
          ],
          "name": "stdout"
        }
      ]
    },
    {
      "cell_type": "code",
      "metadata": {
        "id": "ATYrHIc_rt-W",
        "colab_type": "code",
        "outputId": "007f3be0-e095-4177-fd22-f51eb8a67b85",
        "colab": {
          "base_uri": "https://localhost:8080/",
          "height": 34
        }
      },
      "source": [
        "len(ingredients)"
      ],
      "execution_count": 0,
      "outputs": [
        {
          "output_type": "execute_result",
          "data": {
            "text/plain": [
              "1060"
            ]
          },
          "metadata": {
            "tags": []
          },
          "execution_count": 17
        }
      ]
    },
    {
      "cell_type": "markdown",
      "metadata": {
        "id": "qmFzauxWkghc",
        "colab_type": "text"
      },
      "source": [
        "### setup a small dataset"
      ]
    },
    {
      "cell_type": "code",
      "metadata": {
        "id": "Pat2S5FCkghf",
        "colab_type": "code",
        "colab": {}
      },
      "source": [
        "# if not os.path.isdir(base_dataset_dir):\n",
        "#     os.mkdir(base_dataset_dir)\n",
        "    \n",
        "# small_label_path = os.path.join(base_dataset_dir, 'labels')\n",
        "# small_image_path = os.path.join(base_dataset_dir, 'thumbnails')\n",
        "# if not os.path.isdir(small_label_path):\n",
        "#     os.mkdir(small_label_path)\n",
        "# else:\n",
        "#     shutil.rmtree(small_label_path)\n",
        "#     os.mkdir(small_label_path)\n",
        "    \n",
        "# if not os.path.isdir(small_image_path):\n",
        "#     os.mkdir(small_image_path)\n",
        "# else:\n",
        "#     shutil.rmtree(small_image_path)\n",
        "#     os.mkdir(small_image_path)"
      ],
      "execution_count": 0,
      "outputs": []
    },
    {
      "cell_type": "code",
      "metadata": {
        "id": "48FAIiKbkgh0",
        "colab_type": "code",
        "colab": {}
      },
      "source": [
        "# copy label files\n",
        "# for fname in original_label_files[:2000]:\n",
        "#     src = os.path.join(original_label_path, fname)\n",
        "#     dst = os.path.join(small_label_path, fname)\n",
        "#     shutil.copyfile(src, dst)"
      ],
      "execution_count": 0,
      "outputs": []
    },
    {
      "cell_type": "code",
      "metadata": {
        "id": "8Camnyqhkgh9",
        "colab_type": "code",
        "colab": {}
      },
      "source": [
        "# copy image files\n",
        "# for fname in original_label_files[:2000]:\n",
        "#     img_fname = fname[:-5]\n",
        "#     src = os.path.join(original_image_path, img_fname)\n",
        "#     dst = os.path.join(small_image_path, img_fname)\n",
        "#     shutil.copyfile(src, dst)"
      ],
      "execution_count": 0,
      "outputs": []
    },
    {
      "cell_type": "code",
      "metadata": {
        "id": "GWJv_ZgaY_cB",
        "colab_type": "code",
        "colab": {}
      },
      "source": [
        "import json\n",
        "det_ingrs = json.load(open('det_ingrs.json', 'r'))"
      ],
      "execution_count": 0,
      "outputs": []
    },
    {
      "cell_type": "code",
      "metadata": {
        "id": "bIZR3m5Oa1qE",
        "colab_type": "code",
        "outputId": "fd07744e-4246-48d8-a644-39b3de30c557",
        "colab": {
          "base_uri": "https://localhost:8080/",
          "height": 34
        }
      },
      "source": [
        "len(det_ingrs)"
      ],
      "execution_count": 0,
      "outputs": [
        {
          "output_type": "execute_result",
          "data": {
            "text/plain": [
              "1060"
            ]
          },
          "metadata": {
            "tags": []
          },
          "execution_count": 35
        }
      ]
    },
    {
      "cell_type": "code",
      "metadata": {
        "id": "am1UZnq5Zs-y",
        "colab_type": "code",
        "outputId": "9d715d90-aa8f-4503-b6db-89d08edfa7e2",
        "colab": {
          "base_uri": "https://localhost:8080/",
          "height": 221
        }
      },
      "source": [
        "label_map = {'id' : [], 'word_tags' : [], 'word_tags_nostop' : [], 'word_tags_clean' : []}\n",
        "for i in range(len(det_ingrs)): \n",
        "  label_map['id'].append(det_ingrs[i]['id'])\n",
        "  lis = []\n",
        "  for j in range(len(det_ingrs[i]['ingredients'])):\n",
        "    lis.append(det_ingrs[i]['ingredients'][j]['text'])\n",
        "  label_map['word_tags'].append(lis)\n",
        "  label_map['word_tags_nostop'].append(lis)\n",
        "  label_map['word_tags_clean'].append(lis)\n",
        "label_df = pd.DataFrame(label_map)\n",
        "label_df.head()"
      ],
      "execution_count": 0,
      "outputs": [
        {
          "output_type": "execute_result",
          "data": {
            "text/html": [
              "<div>\n",
              "<style scoped>\n",
              "    .dataframe tbody tr th:only-of-type {\n",
              "        vertical-align: middle;\n",
              "    }\n",
              "\n",
              "    .dataframe tbody tr th {\n",
              "        vertical-align: top;\n",
              "    }\n",
              "\n",
              "    .dataframe thead th {\n",
              "        text-align: right;\n",
              "    }\n",
              "</style>\n",
              "<table border=\"1\" class=\"dataframe\">\n",
              "  <thead>\n",
              "    <tr style=\"text-align: right;\">\n",
              "      <th></th>\n",
              "      <th>id</th>\n",
              "      <th>word_tags</th>\n",
              "      <th>word_tags_nostop</th>\n",
              "      <th>word_tags_clean</th>\n",
              "    </tr>\n",
              "  </thead>\n",
              "  <tbody>\n",
              "    <tr>\n",
              "      <th>0</th>\n",
              "      <td>213449</td>\n",
              "      <td>[  olive oil, green bell pepper,, sweet onion,...</td>\n",
              "      <td>[  olive oil, green bell pepper,, sweet onion,...</td>\n",
              "      <td>[  olive oil, green bell pepper,, sweet onion,...</td>\n",
              "    </tr>\n",
              "    <tr>\n",
              "      <th>1</th>\n",
              "      <td>61270</td>\n",
              "      <td>[  refrigerated gnocchi, unsalted butter, shal...</td>\n",
              "      <td>[  refrigerated gnocchi, unsalted butter, shal...</td>\n",
              "      <td>[  refrigerated gnocchi, unsalted butter, shal...</td>\n",
              "    </tr>\n",
              "    <tr>\n",
              "      <th>2</th>\n",
              "      <td>216629</td>\n",
              "      <td>[  ground turkey, can  tomatoes, can tomato sa...</td>\n",
              "      <td>[  ground turkey, can  tomatoes, can tomato sa...</td>\n",
              "      <td>[  ground turkey, can  tomatoes, can tomato sa...</td>\n",
              "    </tr>\n",
              "    <tr>\n",
              "      <th>3</th>\n",
              "      <td>216909</td>\n",
              "      <td>[ jalapeno peppers,  lengthwise, package cream...</td>\n",
              "      <td>[ jalapeno peppers,  lengthwise, package cream...</td>\n",
              "      <td>[ jalapeno peppers,  lengthwise, package cream...</td>\n",
              "    </tr>\n",
              "    <tr>\n",
              "      <th>4</th>\n",
              "      <td>112239</td>\n",
              "      <td>[  graham cracker crumbs, butter, melted, whit...</td>\n",
              "      <td>[  graham cracker crumbs, butter, melted, whit...</td>\n",
              "      <td>[  graham cracker crumbs, butter, melted, whit...</td>\n",
              "    </tr>\n",
              "  </tbody>\n",
              "</table>\n",
              "</div>"
            ],
            "text/plain": [
              "       id  ...                                    word_tags_clean\n",
              "0  213449  ...  [  olive oil, green bell pepper,, sweet onion,...\n",
              "1   61270  ...  [  refrigerated gnocchi, unsalted butter, shal...\n",
              "2  216629  ...  [  ground turkey, can  tomatoes, can tomato sa...\n",
              "3  216909  ...  [ jalapeno peppers,  lengthwise, package cream...\n",
              "4  112239  ...  [  graham cracker crumbs, butter, melted, whit...\n",
              "\n",
              "[5 rows x 4 columns]"
            ]
          },
          "metadata": {
            "tags": []
          },
          "execution_count": 49
        }
      ]
    },
    {
      "cell_type": "code",
      "metadata": {
        "id": "o8_IdpwOkgh_",
        "colab_type": "code",
        "colab": {}
      },
      "source": [
        "# label_map = {'label_file' : [], 'word_tags' : []}\n",
        "# for fname in listdir(): \n",
        "#     # f = join(small_label_path, fname)\n",
        "#     f = fname\n",
        "#     if isfile(f):\n",
        "#         f = open(f)\n",
        "#         label_map['label_file'].append(fname)\n",
        "#         line = f.read().splitlines()\n",
        "#         label_map['word_tags'].append(line)\n",
        "# label_df = pd.DataFrame(label_map)\n",
        "# label_df.head()"
      ],
      "execution_count": 0,
      "outputs": []
    },
    {
      "cell_type": "code",
      "metadata": {
        "id": "gKJVOID4kgiB",
        "colab_type": "code",
        "outputId": "940f6ae6-c522-4efa-be3a-cddd9ce03186",
        "colab": {
          "base_uri": "https://localhost:8080/",
          "height": 34
        }
      },
      "source": [
        "label_df.shape"
      ],
      "execution_count": 0,
      "outputs": [
        {
          "output_type": "execute_result",
          "data": {
            "text/plain": [
              "(1060, 4)"
            ]
          },
          "metadata": {
            "tags": []
          },
          "execution_count": 50
        }
      ]
    },
    {
      "cell_type": "code",
      "metadata": {
        "id": "y3a9jKYMkgiF",
        "colab_type": "code",
        "colab": {}
      },
      "source": [
        "# class Preprocessing(object):\n",
        "#     def __init__(self, data, source_column_name='word_tags', target_column_name='word_tags_clean'):\n",
        "#         self.data = data\n",
        "#         self.source_column_name = source_column_name\n",
        "#         self.feature_name = target_column_name\n",
        "        \n",
        "#     def remove_punctuation(self, text):\n",
        "#         text_nopunct = \"\".join([char for char in text if char not in string.punctuation])# It will discard all punctuations\n",
        "#         return text_nopunct\n",
        "    \n",
        "#     def tokenize(self, text):\n",
        "#         # Match one or more characters which are not word character\n",
        "#         tokens = re.split('\\W+', text) \n",
        "#         return tokens\n",
        "    \n",
        "#     def remove_stopwords(self, tokenized_list):\n",
        "#         # Remove all English Stopwords\n",
        "#         stopword = nltk.corpus.stopwords.words('english')\n",
        "#         text = [word for word in tokenized_list if word not in stopword]\n",
        "#         return text\n",
        "    \n",
        "#     def stemming(self, tokenized_text):\n",
        "#         ps = nltk.PorterStemmer()\n",
        "#         text = [ps.stem(word) for word in tokenized_text]\n",
        "#         return text\n",
        "    \n",
        "#     def lemmatizing(self, tokenized_text):\n",
        "#         wn = nltk.WordNetLemmatizer()\n",
        "#         text = [wn.lemmatize(word) for word in tokenized_text]\n",
        "#         return text\n",
        "    \n",
        "#     def alnum(self, text):\n",
        "#         def hasNumbers(inputString):\n",
        "#             return any(char.isdigit() for char in inputString)\n",
        "        \n",
        "#         text = [word for word in text if len(word) > 0 and word.isalnum() and not word.isdigit() and not hasNumbers(word)]\n",
        "#         return text\n",
        "    \n",
        "#     def tokens_to_string(self, tokens_string):\n",
        "#         try:\n",
        "#             list_obj = ast.literal_eval(tokens_string)\n",
        "#             text = \" \".join(list_obj)\n",
        "#         except:\n",
        "#             text = None\n",
        "#         return text\n",
        "    \n",
        "#     def dropna(self):\n",
        "#         feature_name = self.feature_name\n",
        "#         if self.data[feature_name].isnull().sum() > 0:\n",
        "#             column_list=[feature_name]\n",
        "#             self.data = self.data.dropna(subset=column_list)\n",
        "#             return self.data\n",
        "        \n",
        "#     def preprocessing(self):\n",
        "#         nopunc = self.source_column_name + '_nopunc'\n",
        "#         tokenized = self.source_column_name + '_tokenized'\n",
        "#         nostop = self.source_column_name + '_nostop'\n",
        "#         stemmed = self.source_column_name + '_stemmed'\n",
        "#         lemmatized = self.source_column_name + '_lemmatized'\n",
        "#         self.data[nostop] = self.data[self.source_column_name].apply(lambda x: self.remove_stopwords(x))\n",
        "#         self.data[self.feature_name] = self.data[nostop].apply(lambda x: self.alnum(x))  \n",
        "#         return self.data\n",
        "    \n",
        "#     def save(self, filepath=\"./data/tags_cleaned.csv\"):\n",
        "#         self.data.to_csv(filepath, index=False, sep=',')  \n",
        "        \n",
        "#     def load(self, filepath=\"./data/tags_cleaned.csv\"):\n",
        "#         self.data = pd.read_csv(filepath)\n",
        "#         return self.data"
      ],
      "execution_count": 0,
      "outputs": []
    },
    {
      "cell_type": "code",
      "metadata": {
        "id": "ZajFPVbKcKts",
        "colab_type": "code",
        "colab": {}
      },
      "source": [
        "# import nltk\n",
        "# nltk.download('stopwords')"
      ],
      "execution_count": 0,
      "outputs": []
    },
    {
      "cell_type": "code",
      "metadata": {
        "id": "lf9xovdRkgiJ",
        "colab_type": "code",
        "colab": {}
      },
      "source": [
        "# pp = Preprocessing(label_df.copy(), source_column_name='word_tags', target_column_name='word_tags_clean')\n",
        "# label_df_clean = pp.preprocessing()"
      ],
      "execution_count": 0,
      "outputs": []
    },
    {
      "cell_type": "code",
      "metadata": {
        "id": "_6s5gU37kgiT",
        "colab_type": "code",
        "colab": {}
      },
      "source": [
        "# label_df_clean.head()"
      ],
      "execution_count": 0,
      "outputs": []
    },
    {
      "cell_type": "code",
      "metadata": {
        "id": "Rr8gTZ4okgiV",
        "colab_type": "code",
        "colab": {}
      },
      "source": [
        "# non_empty_tags = label_df_clean['word_tags_clean'].apply(lambda x: len(x) > 0)\n",
        "# label_df_clean = label_df_clean[non_empty_tags]"
      ],
      "execution_count": 0,
      "outputs": []
    },
    {
      "cell_type": "code",
      "metadata": {
        "id": "Wq2YuVerkgif",
        "colab_type": "code",
        "colab": {}
      },
      "source": [
        "# label_df_clean.head()"
      ],
      "execution_count": 0,
      "outputs": []
    },
    {
      "cell_type": "code",
      "metadata": {
        "id": "apH-IEwwkgii",
        "colab_type": "code",
        "colab": {}
      },
      "source": [
        "# label_df_clean.shape"
      ],
      "execution_count": 0,
      "outputs": []
    },
    {
      "cell_type": "code",
      "metadata": {
        "id": "4uHyJyp1kgim",
        "colab_type": "code",
        "outputId": "59257cbe-e6ef-4ee7-e3d3-a8cf1642d87f",
        "colab": {
          "base_uri": "https://localhost:8080/",
          "height": 34
        }
      },
      "source": [
        "num_of_samples = label_df.shape[0]\n",
        "num_of_samples"
      ],
      "execution_count": 0,
      "outputs": [
        {
          "output_type": "execute_result",
          "data": {
            "text/plain": [
              "1060"
            ]
          },
          "metadata": {
            "tags": []
          },
          "execution_count": 61
        }
      ]
    },
    {
      "cell_type": "markdown",
      "metadata": {
        "id": "avhjVgVfkgiq",
        "colab_type": "text"
      },
      "source": [
        "## GloVe\n",
        "* glove.6B.zip: https://nlp.stanford.edu/projects/glove/"
      ]
    },
    {
      "cell_type": "code",
      "metadata": {
        "id": "xtmF9f4hfDo_",
        "colab_type": "code",
        "outputId": "6820118f-d364-4cf3-c021-1988f31fbfc2",
        "colab": {
          "base_uri": "https://localhost:8080/",
          "height": 768
        }
      },
      "source": [
        "!pip install glove_python\n",
        "import itertools\n",
        "from gensim.models.word2vec import Text8Corpus\n",
        "from glove import Corpus, Glove\n",
        "# sentences and corpus from standard library\n",
        "#sentences = list(itertools.islice(Text8Corpus('text8'),None))\n",
        "corpus = Corpus()\n",
        "# fitting the corpus with sentences and creating Glove object\n",
        "corpus.fit(label_df['word_tags_clean'], window=10)\n",
        "glove = Glove(no_components=100, learning_rate=0.05)\n",
        "# fitting to the corpus and adding standard dictionary to the object\n",
        "glove.fit(corpus.matrix, epochs=30, no_threads=4, verbose=True)\n",
        "glove.add_dictionary(corpus.dictionary)"
      ],
      "execution_count": 0,
      "outputs": [
        {
          "output_type": "stream",
          "text": [
            "Collecting glove_python\n",
            "\u001b[?25l  Downloading https://files.pythonhosted.org/packages/3e/79/7e7e548dd9dcb741935d031117f4bed133276c2a047aadad42f1552d1771/glove_python-0.1.0.tar.gz (263kB)\n",
            "\r\u001b[K     |█▎                              | 10kB 19.3MB/s eta 0:00:01\r\u001b[K     |██▌                             | 20kB 2.2MB/s eta 0:00:01\r\u001b[K     |███▊                            | 30kB 3.2MB/s eta 0:00:01\r\u001b[K     |█████                           | 40kB 2.1MB/s eta 0:00:01\r\u001b[K     |██████▎                         | 51kB 2.6MB/s eta 0:00:01\r\u001b[K     |███████▌                        | 61kB 3.1MB/s eta 0:00:01\r\u001b[K     |████████▊                       | 71kB 3.6MB/s eta 0:00:01\r\u001b[K     |██████████                      | 81kB 4.1MB/s eta 0:00:01\r\u001b[K     |███████████▏                    | 92kB 4.6MB/s eta 0:00:01\r\u001b[K     |████████████▌                   | 102kB 3.5MB/s eta 0:00:01\r\u001b[K     |█████████████▊                  | 112kB 3.5MB/s eta 0:00:01\r\u001b[K     |███████████████                 | 122kB 3.5MB/s eta 0:00:01\r\u001b[K     |████████████████▏               | 133kB 3.5MB/s eta 0:00:01\r\u001b[K     |█████████████████▍              | 143kB 3.5MB/s eta 0:00:01\r\u001b[K     |██████████████████▊             | 153kB 3.5MB/s eta 0:00:01\r\u001b[K     |████████████████████            | 163kB 3.5MB/s eta 0:00:01\r\u001b[K     |█████████████████████▏          | 174kB 3.5MB/s eta 0:00:01\r\u001b[K     |██████████████████████▍         | 184kB 3.5MB/s eta 0:00:01\r\u001b[K     |███████████████████████▋        | 194kB 3.5MB/s eta 0:00:01\r\u001b[K     |█████████████████████████       | 204kB 3.5MB/s eta 0:00:01\r\u001b[K     |██████████████████████████▏     | 215kB 3.5MB/s eta 0:00:01\r\u001b[K     |███████████████████████████▍    | 225kB 3.5MB/s eta 0:00:01\r\u001b[K     |████████████████████████████▋   | 235kB 3.5MB/s eta 0:00:01\r\u001b[K     |█████████████████████████████▉  | 245kB 3.5MB/s eta 0:00:01\r\u001b[K     |███████████████████████████████▏| 256kB 3.5MB/s eta 0:00:01\r\u001b[K     |████████████████████████████████| 266kB 3.5MB/s \n",
            "\u001b[?25hRequirement already satisfied: numpy in /usr/local/lib/python3.6/dist-packages (from glove_python) (1.17.5)\n",
            "Requirement already satisfied: scipy in /usr/local/lib/python3.6/dist-packages (from glove_python) (1.4.1)\n",
            "Building wheels for collected packages: glove-python\n",
            "  Building wheel for glove-python (setup.py) ... \u001b[?25l\u001b[?25hdone\n",
            "  Created wheel for glove-python: filename=glove_python-0.1.0-cp36-cp36m-linux_x86_64.whl size=700318 sha256=74bc5701db983648e45eb93efe30635f0937f1c2bc3f0a03dd7671afe71c9d89\n",
            "  Stored in directory: /root/.cache/pip/wheels/88/4b/6d/10c0d2ad32c9d9d68beec9694a6f0b6e83ab1662a90a089a4b\n",
            "Successfully built glove-python\n",
            "Installing collected packages: glove-python\n",
            "Successfully installed glove-python-0.1.0\n",
            "Performing 30 training epochs with 4 threads\n",
            "Epoch 0\n",
            "Epoch 1\n",
            "Epoch 2\n",
            "Epoch 3\n",
            "Epoch 4\n",
            "Epoch 5\n",
            "Epoch 6\n",
            "Epoch 7\n",
            "Epoch 8\n",
            "Epoch 9\n",
            "Epoch 10\n",
            "Epoch 11\n",
            "Epoch 12\n",
            "Epoch 13\n",
            "Epoch 14\n",
            "Epoch 15\n",
            "Epoch 16\n",
            "Epoch 17\n",
            "Epoch 18\n",
            "Epoch 19\n",
            "Epoch 20\n",
            "Epoch 21\n",
            "Epoch 22\n",
            "Epoch 23\n",
            "Epoch 24\n",
            "Epoch 25\n",
            "Epoch 26\n",
            "Epoch 27\n",
            "Epoch 28\n",
            "Epoch 29\n"
          ],
          "name": "stdout"
        }
      ]
    },
    {
      "cell_type": "code",
      "metadata": {
        "id": "Lv-sDrpdfjVt",
        "colab_type": "code",
        "outputId": "bc024e70-0b49-48ba-edca-e447ad8b99e3",
        "colab": {
          "base_uri": "https://localhost:8080/",
          "height": 442
        }
      },
      "source": [
        "glove.word_vectors[glove.dictionary['triple sec']]"
      ],
      "execution_count": 0,
      "outputs": [
        {
          "output_type": "execute_result",
          "data": {
            "text/plain": [
              "array([ 5.71214887e-03, -5.89350519e-03, -1.60091226e-03,  8.28913193e-04,\n",
              "       -1.00296716e-03,  1.96757490e-03,  5.09616339e-03,  1.96024513e-03,\n",
              "       -6.32402205e-04,  8.53898246e-04, -4.13814571e-03,  6.13668728e-03,\n",
              "       -1.00000454e-02, -9.27100371e-03,  1.59657527e-03,  4.26766266e-04,\n",
              "       -1.30010706e-03,  4.03243917e-03, -7.79037616e-03, -1.76995262e-03,\n",
              "       -4.21931615e-04,  6.07639316e-03,  1.11135988e-03, -5.40745776e-03,\n",
              "       -5.15257178e-03, -7.56238519e-03, -1.28157651e-03, -2.77036419e-03,\n",
              "       -4.70744496e-03, -3.32821978e-03, -1.24731020e-02, -4.29327186e-03,\n",
              "       -1.09202058e-03,  3.03794577e-03, -4.51211296e-04,  4.46345799e-03,\n",
              "        5.29838514e-04,  4.98488422e-03, -8.15194692e-03,  1.61505853e-03,\n",
              "        7.05844851e-03, -5.15629398e-03, -7.98486510e-03, -3.01534647e-03,\n",
              "       -4.79282533e-03,  6.56547143e-03,  3.05603648e-03, -1.41411484e-03,\n",
              "       -4.28856147e-03,  4.11186131e-04, -3.30255892e-03, -5.53285997e-03,\n",
              "       -8.43137765e-03, -1.81181284e-03, -1.97810911e-03, -1.01548136e-03,\n",
              "        2.37993909e-03, -1.08026410e-03, -3.33529066e-03, -9.61313319e-03,\n",
              "       -1.63571755e-03, -8.85024410e-04,  6.54826144e-03,  1.40032510e-03,\n",
              "        7.40278233e-03,  4.37442202e-04,  2.81379837e-04,  3.91473372e-04,\n",
              "        3.48715703e-03,  6.19663265e-03,  6.51525824e-03,  3.91983316e-03,\n",
              "       -2.84950463e-04, -5.08708319e-03, -8.69039353e-03,  1.08499200e-02,\n",
              "        2.63455593e-03, -2.21152003e-03,  6.61718106e-03, -5.96678074e-03,\n",
              "        5.27119714e-03,  3.16142700e-03, -7.63385591e-03,  5.51014582e-03,\n",
              "       -4.86997496e-03, -2.62445821e-03, -6.38731273e-03, -7.58069310e-03,\n",
              "       -9.49037184e-04, -4.65432880e-03,  1.65346842e-03, -2.98642863e-03,\n",
              "        2.67507162e-03, -2.04133019e-03, -2.29701587e-04, -1.93534359e-04,\n",
              "       -7.18122174e-05, -3.45740230e-03, -3.75990231e-03,  4.00650513e-03])"
            ]
          },
          "metadata": {
            "tags": []
          },
          "execution_count": 69
        }
      ]
    },
    {
      "cell_type": "code",
      "metadata": {
        "id": "xJsWpGuMgqVF",
        "colab_type": "code",
        "colab": {}
      },
      "source": [
        "for i in glove.dictionary:\n",
        "  print (glove.word_vectors[glove.dictionary[i]].shape)"
      ],
      "execution_count": 0,
      "outputs": []
    },
    {
      "cell_type": "code",
      "metadata": {
        "id": "a00DWKAdkgis",
        "colab_type": "code",
        "colab": {}
      },
      "source": [
        "from keras.preprocessing.text import Tokenizer\n",
        "from keras.preprocessing.sequence import pad_sequences\n",
        "\n",
        "maxlen = 100\n",
        "training_samples = 742\n",
        "tag_vocabulary_size = 10000\n",
        "max_words = tag_vocabulary_size"
      ],
      "execution_count": 0,
      "outputs": []
    },
    {
      "cell_type": "code",
      "metadata": {
        "id": "6RurGqFGie3p",
        "colab_type": "code",
        "outputId": "f8ce2251-bc62-45d1-ae5a-a07de49eca5d",
        "colab": {
          "base_uri": "https://localhost:8080/",
          "height": 34
        }
      },
      "source": [
        "# #glove_dir = '/Users/yuhuang/yuefeng/machine-learning/deep_learning/multi_input_models_learning/data/'\n",
        "\n",
        "embeddings_index = {}\n",
        "f = open('glove.6B.100d.txt')\n",
        "for line in f:\n",
        "    values = line.split()\n",
        "    word = values[0]\n",
        "    coefs = np.asarray(values[1:], dtype='float32')\n",
        "    embeddings_index[word] = coefs\n",
        "f.close()\n",
        "\n",
        "print('Found %s word vectors.' % len(embeddings_index))"
      ],
      "execution_count": 0,
      "outputs": [
        {
          "output_type": "stream",
          "text": [
            "Found 400000 word vectors.\n"
          ],
          "name": "stdout"
        }
      ]
    },
    {
      "cell_type": "code",
      "metadata": {
        "id": "DtTWM_ASkgi1",
        "colab_type": "code",
        "outputId": "c5f2bd41-b205-4703-e726-2871d13048df",
        "colab": {
          "base_uri": "https://localhost:8080/",
          "height": 34
        }
      },
      "source": [
        "tokenizer = Tokenizer(num_words=max_words)\n",
        "texts = []\n",
        "for tag_list in label_df['word_tags']:\n",
        "    texts.append(' '.join(tag_list))\n",
        "tokenizer.fit_on_texts(texts)\n",
        "sequences = tokenizer.texts_to_sequences(texts)\n",
        "word_index = tokenizer.word_index\n",
        "print('Found {} unique tokens'.format(len(word_index)))\n",
        "tag_data = pad_sequences(sequences, maxlen=maxlen)"
      ],
      "execution_count": 0,
      "outputs": [
        {
          "output_type": "stream",
          "text": [
            "Found 1386 unique tokens\n"
          ],
          "name": "stdout"
        }
      ]
    },
    {
      "cell_type": "code",
      "metadata": {
        "id": "aH5KMs4ehuys",
        "colab_type": "code",
        "outputId": "9202cddf-9fc0-4776-ecbe-43d97d758654",
        "colab": {
          "base_uri": "https://localhost:8080/",
          "height": 54
        }
      },
      "source": [
        "word_index.items()"
      ],
      "execution_count": 0,
      "outputs": [
        {
          "output_type": "execute_result",
          "data": {
            "text/plain": [
              "dict_items([('salt', 1), ('pepper', 2), ('ground', 3), ('sugar', 4), ('white', 5), ('butter', 6), ('oil', 7), ('cheese', 8), ('black', 9), ('flour', 10), ('all', 11), ('purpose', 12), ('onion', 13), ('water', 14), ('or', 15), ('milk', 16), ('sauce', 17), ('powder', 18), ('can', 19), ('eggs', 20), ('cream', 21), ('olive', 22), ('dried', 23), ('vanilla', 24), ('extract', 25), ('baking', 26), ('package', 27), ('egg', 28), ('vegetable', 29), ('red', 30), ('clovegarlic', 31), ('garlic', 32), ('shredded', 33), ('vinegar', 34), ('brown', 35), ('green', 36), ('grated', 37), ('beef', 38), ('dry', 39), ('large', 40), ('cut', 41), ('lemon', 42), ('cayenne', 43), ('juice', 44), ('cinnamon', 45), ('soda', 46), ('softened', 47), ('for', 48), ('bread', 49), ('chocolate', 50), ('melted', 51), ('fluid', 52), ('broth', 53), ('parsley', 54), ('chicken', 55), ('mustard', 56), ('heavy', 57), ('mix', 58), ('hot', 59), ('cheddar', 60), ('divided', 61), ('tomatoes', 62), ('wine', 63), ('potatoes', 64), ('tomato', 65), ('bell', 66), ('parmesan', 67), ('oregano', 68), (\"confectioners'\", 69), ('rice', 70), ('italian', 71), ('crumbs', 72), ('flakes', 73), ('frozen', 74), ('packed', 75), ('beans', 76), ('onions', 77), ('whole', 78), ('basil', 79), ('paste', 80), ('celery', 81), ('leaves', 82), ('small', 83), ('sour', 84), ('chile', 85), ('aneeded', 86), ('thinly', 87), ('cubed', 88), ('chips', 89), ('cumin', 90), ('clove', 91), ('seasoning', 92), ('corn', 93), ('ginger', 94), ('soy', 95), ('such', 96), ('bay', 97), ('lean', 98), ('pork', 99), ('of', 100), ('soup', 101), ('paprika', 102), ('unsalted', 103), ('thyme', 104), ('mushrooms', 105), ('mayonnaise', 106), ('worcestershire', 107), ('cooked', 108), ('cold', 109), ('condensed', 110), ('thawed', 111), ('leaf', 112), ('light', 113), ('peppers', 114), ('prepared', 115), ('orange', 116), ('sweet', 117), ('yellow', 118), ('unsweetened', 119), ('ice', 120), ('cocoa', 121), ('nutmeg', 122), ('medium', 123), ('lime', 124), ('carrots', 125), ('semisweet', 126), ('chili', 127), ('container', 128), ('extra', 129), ('parmigiano', 130), ('reggiano', 131), ('yeast', 132), ('half', 133), ('garnish', 134), ('pie', 135), ('turkey', 136), ('pumpkin', 137), ('dijon', 138), ('uncooked', 139), ('cubes', 140), ('warm', 141), ('in', 142), ('roast', 143), ('shortening', 144), ('jalapeno', 145), ('ketchup', 146), ('bunch', 147), ('rosemary', 148), ('cilantro', 149), ('sausage', 150), ('seasoned', 151), ('peanut', 152), ('flavored', 153), ('pasta', 154), ('cornstarch', 155), ('apple', 156), ('style', 157), ('mozzarella', 158), ('syrup', 159), ('zest', 160), ('cooking', 161), ('kosher', 162), ('ham', 163), ('bacon', 164), ('thick', 165), ('cloves', 166), ('honey', 167), ('walnuts', 168), ('crust', 169), ('puree', 170), ('coarsely', 171), ('stock', 172), ('sea', 173), ('recipe', 174), ('seeds', 175), ('frying', 176), ('quart', 177), ('dark', 178), ('whipping', 179), ('toasted', 180), ('balsamic', 181), ('active', 182), ('virgin', 183), ('macaroni', 184), ('spinach', 185), ('yolks', 186), ('cherry', 187), ('margarine', 188), ('temperature', 189), ('crumbled', 190), ('with', 191), ('oats', 192), ('coffee', 193), ('whipped', 194), ('french', 195), ('sprig', 196), ('mint', 197), ('room', 198), ('stalkcelery', 199), ('degreef', 200), ('degreec', 201), ('buttermilk', 202), ('sifted', 203), ('spray', 204), ('flat', 205), ('pastry', 206), ('cake', 207), ('sweetened', 208), ('smoked', 209), ('lengthwise', 210), ('packagecream', 211), ('topping', 212), ('liqueur', 213), ('see', 214), ('head', 215), ('noodles', 216), ('chives', 217), ('fillets', 218), ('slicebacon', 219), ('sesame', 220), ('coconut', 221), ('pecans', 222), ('bottle', 223), ('jar', 224), ('allspice', 225), ('mashed', 226), ('footnote', 227), ('potato', 228), ('almonds', 229), ('cornmeal', 230), ('cider', 231), ('wheat', 232), ('pineapple', 233), ('chipotle', 234), ('dash', 235), ('sharp', 236), ('spice', 237), ('sherry', 238), ('split', 239), ('peas', 240), ('canned', 241), ('lightly', 242), ('dusting', 243), ('lamb', 244), ('mushroom', 245), ('shrimp', 246), ('crackers', 247), ('instant', 248), ('spaghetti', 249), ('dill', 250), ('raisins', 251), ('elbow', 252), ('squash', 253), ('sage', 254), ('quartered', 255), ('link', 256), ('almond', 257), ('stalk', 258), ('steaks', 259), ('barbeque', 260), ('slices', 261), ('chunks', 262), ('tenderloin', 263), ('strips', 264), ('steak', 265), ('rolled', 266), ('strawberries', 267), ('pudding', 268), ('liquid', 269), ('evaporated', 270), ('graham', 271), ('cracker', 272), ('plain', 273), ('yolk', 274), ('halves', 275), ('ricotta', 276), ('a', 277), ('baby', 278), ('ripe', 279), ('creamy', 280), ('bananas', 281), ('chops', 282), ('food', 283), ('flaked', 284), ('cranberries', 285), ('fish', 286), ('pitted', 287), ('rum', 288), ('chinese', 289), ('carrot', 290), ('russet', 291), ('dough', 292), ('whites', 293), ('creme', 294), ('bouillon', 295), ('kidney', 296), ('round', 297), ('buns', 298), ('chilled', 299), ('wedges', 300), ('ribs', 301), ('deveined', 302), ('salmon', 303), ('pint', 304), ('walnut', 305), ('cube', 306), ('dressing', 307), ('meat', 308), ('olives', 309), ('beer', 310), ('chuck', 311), ('mascarpone', 312), ('curry', 313), ('distilled', 314), ('slice', 315), ('separated', 316), ('rings', 317), ('yukon', 318), ('gold', 319), ('tarragon', 320), ('salsa', 321), ('jack', 322), ('bonelespork', 323), ('cabbage', 324), ('to', 325), ('corier', 326), ('zucchini', 327), ('coloring', 328), ('shallots', 329), ('cy', 330), ('butternut', 331), ('pecan', 332), ('poultry', 333), ('maple', 334), ('partonly', 335), ('fine', 336), ('goat', 337), ('blueberries', 338), ('bone', 339), ('loin', 340), ('root', 341), ('thin', 342), ('oelek', 343), ('crabmeat', 344), ('eg', 345), ('canola', 346), ('five', 347), ('rib', 348), ('torn', 349), ('ancho', 350), ('cranberry', 351), ('asian', 352), ('asparagus', 353), ('nuts', 354), ('seed', 355), ('monterey', 356), ('molasses', 357), ('boiling', 358), ('skin', 359), ('long', 360), ('cantomato', 361), ('romano', 362), ('lasagna', 363), ('very', 364), ('tortillas', 365), ('vodka', 366), ('unbaked', 367), ('rolls', 368), ('pickled', 369), ('fat', 370), ('gruyere', 371), ('herb', 372), ('garbanzo', 373), ('bean', 374), ('artichoke', 375), ('cleaned', 376), ('slicebread', 377), ('double', 378), ('pizza', 379), ('feta', 380), ('reserved', 381), ('center', 382), ('sambal', 383), ('size', 384), ('plum', 385), ('baked', 386), ('tuna', 387), ('grain', 388), ('eggplant', 389), ('cucumber', 390), ('slicewhite', 391), ('marjoram', 392), ('salad', 393), ('cottage', 394), ('marshmallows', 395), ('miniature', 396), ('swischeese', 397), ('granulated', 398), ('spread', 399), ('refrigerated', 400), ('hard', 401), ('crosswise', 402), ('panko', 403), ('loaf', 404), ('at', 405), ('marinara', 406), ('garam', 407), ('masala', 408), ('yogurt', 409), ('clams', 410), ('buttery', 411), ('eyed', 412), ('anise', 413), ('asriracha®', 414), ('chiles', 415), ('fraiche', 416), ('penne', 417), ('anchovy', 418), ('kernels', 419), ('asambal', 420), ('bag', 421), ('concentrate', 422), ('frosting', 423), ('cancondensed', 424), ('envelope', 425), ('taco', 426), ('quick', 427), ('bite', 428), ('english', 429), ('thai', 430), ('champagne', 431), ('filling', 432), ('raspberries', 433), ('weed', 434), ('cies', 435), ('kernel', 436), ('swich', 437), ('whiskey', 438), ('apples', 439), ('tartar', 440), ('brewed', 441), ('capers', 442), ('golden', 443), ('baguette', 444), ('herbede', 445), ('provence', 446), ('neck', 447), ('drippings', 448), ('hoisin', 449), ('other', 450), ('mussels', 451), ('hamburger', 452), ('marsala', 453), ('hearts', 454), ('hulled', 455), ('tomatoewith', 456), ('cauliflower', 457), ('coarse', 458), ('shelled', 459), ('jam', 460), ('powdered', 461), ('shell', 462), ('canblack', 463), ('seafood', 464), ('cereal', 465), ('saltine', 466), ('part', 467), ('rounds', 468), ('flank', 469), ('turmeric', 470), ('lettuce', 471), ('sirloin', 472), ('biscuit', 473), ('new', 474), ('shucked', 475), ('hash', 476), ('skim', 477), ('cooled', 478), ('deep', 479), ('quinoa', 480), ('relish', 481), ('gin', 482), ('if', 483), ('curd', 484), ('decoration', 485), ('jell', 486), ('o®', 487), ('crescent', 488), ('processed', 489), ('puff', 490), ('p', 491), ('cajun', 492), ('cod', 493), ('roasted', 494), ('un', 495), ('currants', 496), ('zested', 497), ('debearded', 498), ('quartcold', 499), ('kale', 500), ('leek', 501), ('serving', 502), ('club', 503), ('porcini', 504), ('any', 505), ('roughly', 506), ('back', 507), ('wedge', 508), ('pear', 509), ('horseradish', 510), ('brusselsprouts', 511), ('star', 512), ('miso', 513), ('brisket', 514), ('sliceitalian', 515), ('scallops', 516), ('aold', 517), ('bay®', 518), ('lobster', 519), ('from', 520), ('packageinstant', 521), ('raw', 522), ('roma', 523), ('fennel', 524), ('tip', 525), ('milliliter', 526), ('triple', 527), ('sec', 528), ('maraschino', 529), ('cherries', 530), ('high', 531), ('shoulder', 532), ('oysters', 533), ('oyster', 534), ('peel', 535), ('stemmed', 536), ('peanuts', 537), ('granny', 538), ('smith', 539), ('packageactive', 540), ('tortilla', 541), ('arborio', 542), ('rump', 543), ('mild', 544), ('blend', 545), ('poppy', 546), ('cookie', 547), ('bits', 548), ('slightly', 549), ('pickle', 550), ('strawberry', 551), ('covered', 552), ('old', 553), ('needed', 554), ('tahini', 555), ('square', 556), ('slivered', 557), ('limes', 558), ('unwrapped', 559), ('pretzels', 560), ('blanched', 561), ('breakfast', 562), ('gravy', 563), ('pepperoni', 564), ('mixed', 565), ('peppermint', 566), ('tequila', 567), ('free', 568), ('soft', 569), ('hoagie', 570), ('twist', 571), ('caramel', 572), ('ribcelery', 573), ('pot', 574), ('wrappers', 575), ('rubbed', 576), ('apricots', 577), (\"abob'red\", 578), ('marmalade', 579), ('semi', 580), ('akahlua®', 581), ('bittersweet', 582), ('jumbo', 583), ('shells', 584), ('prosciutto', 585), ('prime', 586), ('pancetta', 587), ('partseparated', 588), ('peach', 589), ('mini', 590), ('pepperjack', 591), ('top', 592), ('stemremoved', 593), ('spanish', 594), ('box', 595), ('florets', 596), ('cracked', 597), ('plu', 598), ('swischard', 599), ('ditalini', 600), ('aged', 601), ('veal', 602), ('fully', 603), ('quartwater', 604), ('irish', 605), ('habanero', 606), ('strip', 607), ('peaches', 608), ('matchsticks', 609), ('cookies', 610), ('short', 611), ('stew', 612), ('avocado', 613), ('pecorino', 614), ('chunky', 615), ('corned', 616), ('oranges', 617), ('tenderloins', 618), ('preserves', 619), ('earcorn', 620), ('filet', 621), ('iceberg', 622), ('machine', 623), ('tilapia', 624), ('stewed', 625), ('bry', 626), ('sized', 627), ('diagonal', 628), ('burrata', 629), ('fruit', 630), ('breast', 631), ('ready', 632), ('serve', 633), ('blackberries', 634), ('thickly', 635), ('quality', 636), ('grape', 637), ('scrubbed', 638), ('spicy', 639), ('removed', 640), ('roll', 641), ('lard', 642), ('popcorn', 643), ('crispy', 644), ('gorgonzola', 645), ('canstewed', 646), ('coleslaw', 647), ('lemons', 648), ('skewers', 649), ('canwhole', 650), ('cornflakecereal', 651), ('beanwith', 652), ('cannellini', 653), ('eye', 654), ('crusts', 655), ('raisin', 656), ('greens', 657), ('granules', 658), ('country', 659), ('marshmallow', 660), ('snapper', 661), ('saffron', 662), ('mexican', 663), ('lentils', 664), ('cubebeef', 665), ('avocados', 666), ('liter', 667), ('bourbon', 668), ('leeks', 669), ('canchicken', 670), ('canrefrigerated', 671), ('broccoli', 672), ('tabasco™', 673), ('non', 674), ('packet', 675), ('ranch', 676), ('smoke', 677), ('gallon', 678), ('reduced', 679), ('raspberry', 680), ('pods', 681), ('de', 682), ('vermouth', 683), ('nonfat', 684), ('applesauce', 685), ('american', 686), ('single', 687), ('bitters', 688), ('rye', 689), ('kisses', 690), ('cocktail', 691), ('fontina', 692), ('flake', 693), ('espresso', 694), ('strong', 695), ('salted', 696), ('spareribs', 697), (\"afrank'redhot®\", 698), ('slicefrench', 699), ('herbs', 700), ('wonton', 701), ('sourdough', 702), ('mill®', 703), ('gibletreserved', 704), ('pan', 705), ('jellied', 706), ('fresno', 707), ('acorn', 708), ('breadcrumbs', 709), ('grilled', 710), ('rackof', 711), ('pistachio', 712), ('escarole', 713), ('pesto', 714), ('flax', 715), ('meal', 716), ('tomatoesuch', 717), ('asan', 718), ('pluextra', 719), ('chivefor', 720), ('skirt', 721), ('rack', 722), ('out', 723), ('ouille', 724), ('pale', 725), ('brie', 726), ('bones', 727), ('poblano', 728), ('muffin', 729), ('ajiffy®', 730), ('stem', 731), ('end', 732), ('button', 733), ('tapioca', 734), ('peache', 735), ('self', 736), ('rising', 737), ('clamshell', 738), ('dog', 739), ('arugula', 740), ('muenster', 741), ('marzano', 742), ('shavings', 743), ('caper', 744), ('clarified', 745), ('pea', 746), ('brushing', 747), ('cardamom', 748), ('lump', 749), ('firm', 750), ('freestone', 751), ('tiny', 752), ('wafer', 753), ('not', 754), ('bar', 755), ('ziti', 756), ('provolone', 757), ('pimento', 758), ('couscous', 759), ('barbecue', 760), ('overripe', 761), ('silver', 762), ('refried', 763), ('medallions', 764), ('lemonade', 765), ('carbonated', 766), ('chestnuts', 767), ('packagerefrigerated', 768), ('duck', 769), ('york', 770), ('on', 771), ('the', 772), ('mango', 773), ('peppercorns', 774), ('slicepepperjack', 775), ('quartchicken', 776), ('assorted', 777), ('fillet', 778), ('flavor', 779), ('jelly', 780), ('cognac', 781), ('figs', 782), ('pickling', 783), ('cucumbers', 784), ('shellreserved', 785), ('pomegranate', 786), ('shanks', 787), ('leave', 788), ('liquor', 789), ('squeezed', 790), ('casingremoved', 791), ('casing', 792), ('deliciouapple', 793), ('sticks', 794), ('berries', 795), ('skinless', 796), ('squares', 797), ('tangerine', 798), ('stick', 799), ('decorator', 800), ('stuffing', 801), ('muffins', 802), ('sprigs', 803), ('dish', 804), ('asparaguspears', 805), ('gibletremoved', 806), ('quartoil', 807), ('sun', 808), ('rhubarb', 809), ('grenadine', 810), ('ay', 811), ('washed', 812), ('cancream', 813), ('simple', 814), ('key', 815), ('bunchespinach', 816), ('creole', 817), ('alfredo', 818), ('clear', 819), ('vermicelli', 820), ('sprouts', 821), ('slicecheddar', 822), ('pickles', 823), ('liver', 824), ('squareunsweetened', 825), ('scoopvanilla', 826), ('fried', 827), ('dates', 828), ('packagestrawberry', 829), ('grapes', 830), ('germ', 831), (\"devil'food\", 832), ('atabasco®', 833), ('ciced', 834), ('cubechicken', 835), ('pressed', 836), ('ale', 837), ('pouch', 838), ('progresso™', 839), ('starters™', 840), ('sliceamerican', 841), ('linksweet', 842), ('croutons', 843), ('butt', 844), ('flavoring', 845), ('filletsalmon', 846), ('wide', 847), ('pearl', 848), ('vegetables', 849), ('diagonally', 850), ('colby', 851), ('mexico', 852), ('california', 853), ('butterscotch', 854), ('wafers', 855), ('dropgreen', 856), ('apricot', 857), ('macadamia', 858), ('drink', 859), ('mahi', 860), ('bran', 861), ('hickory', 862), ('based', 863), ('sodium', 864), ('heinz', 865), ('savory', 866), ('gluten', 867), ('untoasted', 868), ('dipping', 869), ('horn', 870), ('ciabatta', 871), ('horizontally', 872), ('assembly', 873), ('banana', 874), ('tri', 875), ('coated', 876), ('seashell', 877), ('asiago', 878), ('crunchy', 879), ('dasheangostura', 880), ('cotija', 881), ('pine', 882), ('dairy', 883), ('creamer', 884), ('alligator', 885), ('av®', 886), ('adobo', 887), ('gnocchi', 888), ('slicejalapeno', 889), ('toothpicks', 890), ('pressurized', 891), ('boiled', 892), ('plantains', 893), ('fourths', 894), ('sofrito', 895), ('sazon', 896), ('fajita', 897), ('afiesta®', 898), ('hungarian', 899), ('rackpork', 900), ('j', 901), ('wray', 902), ('nephew', 903), ('jamaican', 904), ('garnier', 905), ('orgeat', 906), ('curacao', 907), ('rock', 908), ('canpinquito', 909), ('fava', 910), ('seedfor', 911), ('bison', 912), ('dip', 913), ('abechamel', 914), ('drippingfrom', 915), ('wedgefor', 916), ('honeycomb', 917), ('tripe', 918), ('onionto', 919), ('ribbons', 920), ('crustsuch', 921), ('akeebler®', 922), ('marzano®', 923), ('necks', 924), ('skinlescooked', 925), ('artichokes', 926), ('mace', 927), ('low', 928), ('seedscraped', 929), ('tender', 930), ('chip', 931), ('garnishing', 932), ('freshly', 933), ('grind', 934), ('ribremoved', 935), ('leavetorn', 936), ('boxedry', 937), ('pulled', 938), ('cipollini', 939), ('seltzer', 940), ('drizzling', 941), ('stale', 942), ('brownies', 943), ('goose', 944), ('blackberry', 945), ('tied', 946), ('pearls', 947), ('sriracha', 948), ('shiitake', 949), ('meatloaf', 950), ('iron', 951), ('slab', 952), ('individual', 953), ('tomatoepreferably', 954), ('san', 955), ('patted', 956), ('canevaporated', 957), ('brine', 958), ('preferably', 959), ('barley', 960), ('nugget', 961), ('agrape', 962), ('nuts®', 963), ('tails', 964), ('adubliner®', 965), ('caraway', 966), ('hollaise', 967), ('freezer', 968), ('jicama', 969), ('afuji', 970), ('bitsuch', 971), ('acornnut®', 972), ('topseparated', 973), ('kettle', 974), ('greek', 975), ('bonelessirloin', 976), ('confectionercoating', 977), ('jarspaghetti', 978), ('guanciale', 979), (\"acoleman'®\", 980), ('strawberriewith', 981), ('dungenescrab', 982), ('your', 983), ('favorite', 984), ('cancanned', 985), ('halibut', 986), ('only', 987), ('tops', 988), ('membraneremoved', 989), ('between', 990), ('sectionasegments', 991), ('kernelcut', 992), ('cob', 993), ('cancannellini', 994), ('canfrench', 995), ('belly', 996), ('cultured', 997), ('trimmings', 998), ('parts', 999), ('plantainabout', 1000), ('each', 1001), ('one', 1002), ('padron', 1003), ('apossible', 1004), ('fiber', 1005), ('chorizo', 1006), ('pinot', 1007), ('noir', 1008), ('pectin', 1009), ('sprinkling', 1010), ('turbinado', 1011), ('tortellini', 1012), ('bonelesduck', 1013), ('equal', 1014), ('wild', 1015), ('demerara', 1016), ('perch', 1017), ('mission', 1018), ('cotechino', 1019), ('arepaflour', 1020), ('apan®', 1021), ('blade', 1022), ('bulb', 1023), ('abasil', 1024), ('serrano', 1025), ('jarpickled', 1026), ('peppersuch', 1027), ('apeppadew®', 1028), ('two', 1029), ('turnip', 1030), ('rutabaga', 1031), ('parsnip', 1032), ('kiwis', 1033), ('guajillo', 1034), ('dinner', 1035), ('tomatillos', 1036), ('bonelessalmon', 1037), ('leekwhite', 1038), ('unpopped', 1039), ('portobello', 1040), ('shoestring', 1041), ('licorice', 1042), ('piececy', 1043), ('navy', 1044), ('quartturkey', 1045), ('merguez', 1046), ('summer', 1047), ('squashes', 1048), ('oysterwith', 1049), ('unfrosted', 1050), ('cakes', 1051), ('dropblue', 1052), ('guacamole', 1053), ('amiracle', 1054), ('whip™', 1055), ('eat', 1056), ('phyllo', 1057), ('portions', 1058), ('fettuccine', 1059), ('burgundy', 1060), ('boneleschuck', 1061), ('packagevegetarian', 1062), ('burger', 1063), ('crumbles', 1064), ('slicetoast', 1065), ('packagechocolate', 1066), ('mints', 1067), ('hazelnuts', 1068), ('seedlesraspberry', 1069), ('benedictine®', 1070), ('excesfat', 1071), ('cornichons', 1072), ('spearasparagus', 1073), ('boneless', 1074), ('evenly', 1075), ('shallot', 1076), ('quartpopped', 1077), ('moist', 1078), ('imitation', 1079), ('buckwheat', 1080), ('cremini', 1081), ('diakon', 1082), ('radish', 1083), ('wrapper', 1084), ('diameter', 1085), ('leavelettuce', 1086), ('cantuna', 1087), ('cured', 1088), ('picnic', 1089), ('olivesuch', 1090), ('acastelvetrano', 1091), ('topreserved', 1092), ('fettuccini', 1093), (\"abailey's®\", 1094), ('quartolive', 1095), ('quartred', 1096), ('tm', 1097), ('japanese', 1098), ('crumbor', 1099), ('regular', 1100), ('little', 1101), ('smokie', 1102), ('sausages', 1103), ('cookiewith', 1104), ('dumpling', 1105), ('brownie', 1106), ('shaved', 1107), ('tamarind', 1108), ('ghee', 1109), ('podstar', 1110), ('beluga', 1111), ('boston', 1112), ('bibb', 1113), ('quartplain', 1114), ('popped', 1115), ('natural', 1116), ('cangarbanzo', 1117), ('packageladyfingers', 1118), ('stripcanadian', 1119), ('bottlelemon', 1120), ('beverage', 1121), ('enriched', 1122), ('scaled', 1123), ('leavestripped', 1124), ('berry', 1125), ('sunflower', 1126), ('prunes', 1127), ('sting', 1128), ('barchocolate', 1129), ('toffee', 1130), ('containerplain', 1131), ('mountain', 1132), ('dew', 1133), ('™', 1134), ('bottlesparkling', 1135), ('trayice', 1136), ('dashehot', 1137), ('dasheworcestershire', 1138), ('bulk', 1139), ('canchili', 1140), ('beanin', 1141), ('chipsuch', 1142), ('afritos®', 1143), ('edried', 1144), ('esalt', 1145), ('eground', 1146), ('clean', 1147), ('herbitalian', 1148), ('chervil', 1149), ('desired', 1150), ('envelopeunflavored', 1151), ('gelatin', 1152), ('literginger', 1153), ('litersparkling', 1154), ('alcoholic', 1155), ('gummi', 1156), ('snakecy', 1157), ('great', 1158), ('northern', 1159), ('hock', 1160), ('three', 1161), ('real', 1162), ('pieceor', 1163), ('progresso®', 1164), ('portabella', 1165), ('noodle', 1166), ('rind', 1167), ('enchilada', 1168), ('leavecabbage', 1169), ('tailattached', 1170), ('warmed', 1171), ('threads', 1172), ('squid', 1173), ('ring', 1174), ('tentacles', 1175), ('fenugreek', 1176), ('paneer', 1177), ('textured', 1178), ('protein', 1179), ('frankfurters', 1180), ('tomatoepacked', 1181), ('mushroomwith', 1182), ('hawaiian', 1183), ('tomatoe', 1184), ('leaveremoved', 1185), ('eggroom', 1186), ('made', 1187), ('israeli', 1188), ('pimientos', 1189), ('bonelesbeef', 1190), ('crab', 1191), ('excesliquid', 1192), ('sheetnori', 1193), ('seaweed', 1194), ('caviar', 1195), ('atobiko', 1196), ('wasabi', 1197), ('snow', 1198), ('gallonwater', 1199), ('canning', 1200), ('dashi', 1201), ('silken', 1202), ('tofu', 1203), ('packageladyfinger', 1204), ('portion', 1205), ('cook', 1206), (\"hershey®'s\", 1207), ('dropred', 1208), ('seedlesred', 1209), ('canes', 1210), ('fatty', 1211), ('scraps', 1212), ('sliceham', 1213), ('neufchatel', 1214), ('farmer’cheese', 1215), ('masa', 1216), ('harina', 1217), ('husks', 1218), ('canpitted', 1219), ('cacao', 1220), ('framboise', 1221), ('achambord®', 1222), ('juniper', 1223), ('gingersnaps', 1224), ('amaretto', 1225), ('bow', 1226), ('tie', 1227), ('headcauliflower', 1228), ('stripbacon', 1229), ('squarebittersweet', 1230), ('squaregerman', 1231), ('basmati', 1232), ('cashew', 1233), ('creamed', 1234), ('bonelescenter', 1235), ('drop', 1236), ('acointreau®', 1237), ('canmarin', 1238), ('unsulfured', 1239), ('crumb', 1240), ('baguettes', 1241), ('nectar', 1242), ('without', 1243), ('harissa', 1244), ('ingredient', 1245), ('note', 1246), ('fleshed', 1247), ('unbleached', 1248), ('boneleslamb', 1249), ('packagefrozen', 1250), ('velveeta', 1251), ('tail', 1252), ('leg', 1253), ('squaresemisweet', 1254), ('granuledissolved', 1255), ('gibletfrom', 1256), ('xanthan', 1257), ('gum', 1258), ('crystallized', 1259), ('mill', 1260), ('gf', 1261), ('flour®', 1262), ('yams', 1263), ('individually', 1264), ('wrapped', 1265), ('caramels', 1266), ('cashews', 1267), ('links', 1268), ('sliceswischeese', 1269), ('pepperoncini', 1270), ('catfish', 1271), ('filletcatfish', 1272), ('remoulade', 1273), ('fillings', 1274), ('peppercut', 1275), ('deli', 1276), ('striplengthwise', 1277), ('aioli', 1278), ('marinated', 1279), ('sliceaged', 1280), ('grapeseed', 1281), ('edamame', 1282), ('soybeans', 1283), ('file', 1284), ('okra', 1285), ('day', 1286), ('rolling', 1287), ('wings', 1288), ('legs', 1289), ('dropworcestershire', 1290), ('tater', 1291), ('tots', 1292), ('concasse', 1293), ('tailremoved', 1294), ('shank', 1295), ('beets', 1296), ('genoa', 1297), ('salami', 1298), ('sheet', 1299), ('radishes', 1300), ('tips', 1301), ('lillet', 1302), ('blanc', 1303), (\"dashepeychaud'bitters®\", 1304), ('bitters®', 1305), ('angostura', 1306), ('cassiliqueur', 1307), (\"cancampbell's®\", 1308), (\"campbell's®\", 1309), (\"french's®\", 1310), ('tub', 1311), ('slicesalami', 1312), ('slicepepperoni', 1313), ('fries', 1314), ('ribcut', 1315), ('together', 1316), ('leavecoarsely', 1317), ('separately', 1318), ('jarlsberg', 1319), ('cancrescent', 1320), ('bok', 1321), ('choy', 1322), ('wheel', 1323), ('fritos®', 1324), ('quartvanilla', 1325), ('hocks', 1326), ('strawberrie', 1327), ('bagmilk', 1328), ('pate', 1329), ('grill', 1330), ('amontreal', 1331), ('seasoning®', 1332), ('grainy', 1333), ('amoutarde', 1334), ('meaux®', 1335), ('wedgeeach', 1336), ('caffeinated', 1337), ('citrus', 1338), ('amountain', 1339), ('dew®', 1340), (\"packageconfectioners'\", 1341), ('tap', 1342), ('bosc', 1343), ('cied', 1344), ('pod', 1345), ('adesired', 1346), ('limeade', 1347), ('crisp', 1348), ('circular', 1349), ('chocolates', 1350), ('meatballs', 1351), ('cancrabmeat', 1352), ('crusty', 1353), ('jarpasta', 1354), ('filletbeef', 1355), ('miracle', 1356), ('whip', 1357), ('but', 1358), ('shoepeg', 1359), ('coating', 1360), ('envelopeactive', 1361), ('degrees', 1362), ('lukewarm', 1363), ('dropanise', 1364), ('angel', 1365), ('hair', 1366), ('deboned', 1367), ('sheetphyllo', 1368), ('sorted', 1369), ('collard', 1370), ('wedgelime', 1371), ('sliceonion', 1372), ('untreated', 1373), ('cedar', 1374), ('planks', 1375), ('canenchilada', 1376), ('canwhite', 1377), ('hominy', 1378), ('chilies', 1379), ('tea', 1380), ('raisinor', 1381), ('frenched', 1382), ('mignon', 1383), (\"bailey's®\", 1384), ('smirnoff®', 1385), ('beet', 1386)])"
            ]
          },
          "metadata": {
            "tags": []
          },
          "execution_count": 83
        }
      ]
    },
    {
      "cell_type": "code",
      "metadata": {
        "id": "p9x8NhYVkgi3",
        "colab_type": "code",
        "outputId": "cfdd0cf8-e03d-49d1-a965-312cce2968a0",
        "colab": {
          "base_uri": "https://localhost:8080/",
          "height": 34
        }
      },
      "source": [
        "tag_data.shape"
      ],
      "execution_count": 0,
      "outputs": [
        {
          "output_type": "execute_result",
          "data": {
            "text/plain": [
              "(1060, 100)"
            ]
          },
          "metadata": {
            "tags": []
          },
          "execution_count": 84
        }
      ]
    },
    {
      "cell_type": "code",
      "metadata": {
        "id": "QpmOoHatkgi6",
        "colab_type": "code",
        "colab": {}
      },
      "source": [
        "embedding_dim = 100\n",
        "\n",
        "embedding_matrix = np.zeros((max_words, embedding_dim))\n",
        "for word, i in word_index.items():\n",
        "    embedding_vector = embeddings_index.get(word)\n",
        "    if i < max_words:\n",
        "        if embedding_vector is not None:\n",
        "            # Words not found in embedding index will be all-zeros.\n",
        "            embedding_matrix[i] = embedding_vector"
      ],
      "execution_count": 0,
      "outputs": []
    },
    {
      "cell_type": "code",
      "metadata": {
        "id": "rWY4WzNlkgi8",
        "colab_type": "code",
        "outputId": "2b8be727-da05-41f0-d1f0-e2f9cb9aeeff",
        "colab": {
          "base_uri": "https://localhost:8080/",
          "height": 34
        }
      },
      "source": [
        "tag_data.shape"
      ],
      "execution_count": 0,
      "outputs": [
        {
          "output_type": "execute_result",
          "data": {
            "text/plain": [
              "(1060, 100)"
            ]
          },
          "metadata": {
            "tags": []
          },
          "execution_count": 86
        }
      ]
    },
    {
      "cell_type": "code",
      "metadata": {
        "id": "K60LSi3ukgi9",
        "colab_type": "code",
        "outputId": "206ee1dc-fd0d-477b-b212-e0acc9e2cb1c",
        "colab": {
          "base_uri": "https://localhost:8080/",
          "height": 197
        }
      },
      "source": [
        "tag_input = Input(shape=(None,), dtype='int32', name='tag')\n",
        "embedded_tag = layers.Embedding(max_words, embedding_dim)(tag_input)\n",
        "encoded_tag = layers.LSTM(256)(embedded_tag)"
      ],
      "execution_count": 0,
      "outputs": [
        {
          "output_type": "error",
          "ename": "NameError",
          "evalue": "ignored",
          "traceback": [
            "\u001b[0;31m---------------------------------------------------------------------------\u001b[0m",
            "\u001b[0;31mNameError\u001b[0m                                 Traceback (most recent call last)",
            "\u001b[0;32m<ipython-input-1-cff0929b83e3>\u001b[0m in \u001b[0;36m<module>\u001b[0;34m()\u001b[0m\n\u001b[0;32m----> 1\u001b[0;31m \u001b[0mtag_input\u001b[0m \u001b[0;34m=\u001b[0m \u001b[0mInput\u001b[0m\u001b[0;34m(\u001b[0m\u001b[0mshape\u001b[0m\u001b[0;34m=\u001b[0m\u001b[0;34m(\u001b[0m\u001b[0;32mNone\u001b[0m\u001b[0;34m,\u001b[0m\u001b[0;34m)\u001b[0m\u001b[0;34m,\u001b[0m \u001b[0mdtype\u001b[0m\u001b[0;34m=\u001b[0m\u001b[0;34m'int32'\u001b[0m\u001b[0;34m,\u001b[0m \u001b[0mname\u001b[0m\u001b[0;34m=\u001b[0m\u001b[0;34m'tag'\u001b[0m\u001b[0;34m)\u001b[0m\u001b[0;34m\u001b[0m\u001b[0;34m\u001b[0m\u001b[0m\n\u001b[0m\u001b[1;32m      2\u001b[0m \u001b[0membedded_tag\u001b[0m \u001b[0;34m=\u001b[0m \u001b[0mlayers\u001b[0m\u001b[0;34m.\u001b[0m\u001b[0mEmbedding\u001b[0m\u001b[0;34m(\u001b[0m\u001b[0mmax_words\u001b[0m\u001b[0;34m,\u001b[0m \u001b[0membedding_dim\u001b[0m\u001b[0;34m)\u001b[0m\u001b[0;34m(\u001b[0m\u001b[0mtag_input\u001b[0m\u001b[0;34m)\u001b[0m\u001b[0;34m\u001b[0m\u001b[0;34m\u001b[0m\u001b[0m\n\u001b[1;32m      3\u001b[0m \u001b[0mencoded_tag\u001b[0m \u001b[0;34m=\u001b[0m \u001b[0mlayers\u001b[0m\u001b[0;34m.\u001b[0m\u001b[0mLSTM\u001b[0m\u001b[0;34m(\u001b[0m\u001b[0;36m256\u001b[0m\u001b[0;34m)\u001b[0m\u001b[0;34m(\u001b[0m\u001b[0membedded_tag\u001b[0m\u001b[0;34m)\u001b[0m\u001b[0;34m\u001b[0m\u001b[0;34m\u001b[0m\u001b[0m\n",
            "\u001b[0;31mNameError\u001b[0m: name 'Input' is not defined"
          ]
        }
      ]
    },
    {
      "cell_type": "markdown",
      "metadata": {
        "id": "iG_TCOnZkgi_",
        "colab_type": "text"
      },
      "source": [
        "## Conv2D"
      ]
    },
    {
      "cell_type": "code",
      "metadata": {
        "id": "zSRrN9bpkgjA",
        "colab_type": "code",
        "colab": {}
      },
      "source": [
        "from keras.applications import VGG16\n",
        "\n",
        "image_input = Input(shape=(150, 150, 3), name='image')\n",
        "vgg16 = VGG16(weights='imagenet',\n",
        "                  include_top=False,\n",
        "                  input_shape=(150, 150, 3))(image_input)\n",
        "x = layers.Flatten()(vgg16) \n",
        "x = layers.Dense(64, activation='relu')(x)"
      ],
      "execution_count": 0,
      "outputs": []
    },
    {
      "cell_type": "code",
      "metadata": {
        "id": "6unZfus0kgjL",
        "colab_type": "code",
        "colab": {}
      },
      "source": [
        "concatenated = layers.concatenate([x, encoded_tag], axis=-1)\n",
        "output = layers.Dense(1, activation='relu')(concatenated)\n",
        "\n",
        "model = Model([image_input, tag_input], output)\n",
        "\n",
        "model.compile(optimizer='rmsprop', loss='binary_crossentropy', metrics=['acc'])"
      ],
      "execution_count": 0,
      "outputs": []
    },
    {
      "cell_type": "code",
      "metadata": {
        "id": "ydyO5CdOkgjN",
        "colab_type": "code",
        "outputId": "8af33dfd-cfec-4066-8518-4c267647391c",
        "colab": {
          "base_uri": "https://localhost:8080/",
          "height": 476
        }
      },
      "source": [
        "model.summary()"
      ],
      "execution_count": 0,
      "outputs": [
        {
          "output_type": "stream",
          "text": [
            "Model: \"model_8\"\n",
            "__________________________________________________________________________________________________\n",
            "Layer (type)                    Output Shape         Param #     Connected to                     \n",
            "==================================================================================================\n",
            "image (InputLayer)              (None, 150, 150, 3)  0                                            \n",
            "__________________________________________________________________________________________________\n",
            "vgg16 (Model)                   (None, 4, 4, 512)    14714688    image[0][0]                      \n",
            "__________________________________________________________________________________________________\n",
            "tag (InputLayer)                (None, None)         0                                            \n",
            "__________________________________________________________________________________________________\n",
            "flatten_5 (Flatten)             (None, 8192)         0           vgg16[1][0]                      \n",
            "__________________________________________________________________________________________________\n",
            "embedding_4 (Embedding)         (None, None, 100)    1000000     tag[0][0]                        \n",
            "__________________________________________________________________________________________________\n",
            "dense_12 (Dense)                (None, 64)           524352      flatten_5[0][0]                  \n",
            "__________________________________________________________________________________________________\n",
            "lstm_4 (LSTM)                   (None, 256)          365568      embedding_4[0][0]                \n",
            "__________________________________________________________________________________________________\n",
            "concatenate_8 (Concatenate)     (None, 320)          0           dense_12[0][0]                   \n",
            "                                                                 lstm_4[0][0]                     \n",
            "__________________________________________________________________________________________________\n",
            "dense_13 (Dense)                (None, 1)            321         concatenate_8[0][0]              \n",
            "==================================================================================================\n",
            "Total params: 16,604,929\n",
            "Trainable params: 16,604,929\n",
            "Non-trainable params: 0\n",
            "__________________________________________________________________________________________________\n"
          ],
          "name": "stdout"
        }
      ]
    },
    {
      "cell_type": "code",
      "metadata": {
        "id": "zrzwkPQJkgjO",
        "colab_type": "code",
        "colab": {}
      },
      "source": [
        "# model.layers[1].trainable = False # freeze VGG16 convolutional base\n",
        "model.layers[4].set_weights([embedding_matrix])\n",
        "model.layers[4].trainable = False # freeze GloVe word embedding"
      ],
      "execution_count": 0,
      "outputs": []
    },
    {
      "cell_type": "code",
      "metadata": {
        "id": "0njN8xV6qkOM",
        "colab_type": "code",
        "outputId": "f53cf880-5b8f-4063-ea43-42892b1019f9",
        "colab": {
          "base_uri": "https://localhost:8080/",
          "height": 34
        }
      },
      "source": [
        "%cd ../"
      ],
      "execution_count": 0,
      "outputs": [
        {
          "output_type": "stream",
          "text": [
            "/content/drive/My Drive\n"
          ],
          "name": "stdout"
        }
      ]
    },
    {
      "cell_type": "code",
      "metadata": {
        "id": "gT8kSmXfa2rh",
        "colab_type": "code",
        "outputId": "e75b9ad2-7992-49c3-bc8a-4ebfc8a2ffac",
        "colab": {
          "base_uri": "https://localhost:8080/",
          "height": 63
        }
      },
      "source": [
        "!pwd"
      ],
      "execution_count": 0,
      "outputs": [
        {
          "output_type": "stream",
          "text": [
            "/content/drive/My Drive\n"
          ],
          "name": "stdout"
        }
      ]
    },
    {
      "cell_type": "code",
      "metadata": {
        "id": "wYTjcVS_pHIp",
        "colab_type": "code",
        "colab": {}
      },
      "source": [
        "layer1 = json.load(open('layer1.json', 'r'))"
      ],
      "execution_count": 0,
      "outputs": []
    },
    {
      "cell_type": "code",
      "metadata": {
        "id": "9e-TUHT2Z0tS",
        "colab_type": "code",
        "outputId": "8a3f88af-5ddf-43c9-ac63-16e0de71c66f",
        "colab": {
          "base_uri": "https://localhost:8080/",
          "height": 34
        }
      },
      "source": [
        "len(layer1)"
      ],
      "execution_count": 0,
      "outputs": [
        {
          "output_type": "execute_result",
          "data": {
            "text/plain": [
              "1060"
            ]
          },
          "metadata": {
            "tags": []
          },
          "execution_count": 76
        }
      ]
    },
    {
      "cell_type": "code",
      "metadata": {
        "id": "ikcGXSu7kgjR",
        "colab_type": "code",
        "outputId": "549212a3-5d20-4f67-e455-275e5d62c64f",
        "colab": {
          "base_uri": "https://localhost:8080/",
          "height": 51
        }
      },
      "source": [
        "dim = (150, 150)\n",
        "X_image_train = []\n",
        "X_tag_train = tag_data\n",
        "y_train = []\n",
        "%cd allphotos/\n",
        "for fname in listdir():\n",
        "    # fpath = os.path.join(small_image_path, fname)\n",
        "    im = cv2.imread(fname)\n",
        "    im_resized = cv2.resize(im, dim, interpolation = cv2.INTER_AREA)\n",
        "    #im_resized = im\n",
        "    X_image_train.append(im_resized)\n",
        "    y_train.append(1)"
      ],
      "execution_count": 0,
      "outputs": [
        {
          "output_type": "stream",
          "text": [
            "[Errno 2] No such file or directory: 'allphotos/'\n",
            "/content/drive/My Drive/allphotos\n"
          ],
          "name": "stdout"
        }
      ]
    },
    {
      "cell_type": "code",
      "metadata": {
        "id": "Ytmv0Mvbavsw",
        "colab_type": "code",
        "outputId": "29b9aece-73f4-4121-f626-124b1b0a1a94",
        "colab": {
          "base_uri": "https://localhost:8080/",
          "height": 34
        }
      },
      "source": [
        "len(X_image_train)"
      ],
      "execution_count": 0,
      "outputs": [
        {
          "output_type": "execute_result",
          "data": {
            "text/plain": [
              "1060"
            ]
          },
          "metadata": {
            "tags": []
          },
          "execution_count": 107
        }
      ]
    },
    {
      "cell_type": "code",
      "metadata": {
        "id": "1mIe20alakKx",
        "colab_type": "code",
        "outputId": "867c96d2-f1e3-458e-cfe3-5b6de2941c07",
        "colab": {
          "base_uri": "https://localhost:8080/",
          "height": 34
        }
      },
      "source": [
        "len(y_train)"
      ],
      "execution_count": 0,
      "outputs": [
        {
          "output_type": "execute_result",
          "data": {
            "text/plain": [
              "1060"
            ]
          },
          "metadata": {
            "tags": []
          },
          "execution_count": 95
        }
      ]
    },
    {
      "cell_type": "code",
      "metadata": {
        "id": "riaQrGRDco2H",
        "colab_type": "code",
        "outputId": "cdf5a244-8bee-4f35-d109-e9f3cafa2a54",
        "colab": {
          "base_uri": "https://localhost:8080/",
          "height": 34
        }
      },
      "source": [
        "X_image_train[0].shape"
      ],
      "execution_count": 0,
      "outputs": [
        {
          "output_type": "execute_result",
          "data": {
            "text/plain": [
              "(150, 150, 3)"
            ]
          },
          "metadata": {
            "tags": []
          },
          "execution_count": 108
        }
      ]
    },
    {
      "cell_type": "code",
      "metadata": {
        "id": "qk-J0BuFyJsM",
        "colab_type": "code",
        "colab": {}
      },
      "source": [
        "# add wrong tag samples\n",
        "num_negative_samples = len(y_train)\n",
        "for i in range(num_negative_samples):\n",
        "    image = X_image_train[i]\n",
        "    X_image_train.append(image)\n",
        "    j = (i + 1) % num_negative_samples # get a different tag\n",
        "    tag = X_tag_train[j]\n",
        "    X_tag_train = np.append(X_tag_train, tag) \n",
        "    y_train.append(0)"
      ],
      "execution_count": 0,
      "outputs": []
    },
    {
      "cell_type": "code",
      "metadata": {
        "id": "C3LNRN0OyRvr",
        "colab_type": "code",
        "outputId": "45805564-0b69-4de4-88b2-40539a86bc08",
        "colab": {
          "base_uri": "https://localhost:8080/",
          "height": 34
        }
      },
      "source": [
        "len(X_image_train)"
      ],
      "execution_count": 0,
      "outputs": [
        {
          "output_type": "execute_result",
          "data": {
            "text/plain": [
              "2120"
            ]
          },
          "metadata": {
            "tags": []
          },
          "execution_count": 110
        }
      ]
    },
    {
      "cell_type": "code",
      "metadata": {
        "id": "anpfMEK2kgjV",
        "colab_type": "code",
        "colab": {}
      },
      "source": [
        "X_image_train = np.array(X_image_train)\n",
        "X_tag_train   = np.array(X_tag_train)\n",
        "y_train       = np.array(y_train)"
      ],
      "execution_count": 0,
      "outputs": []
    },
    {
      "cell_type": "code",
      "metadata": {
        "id": "D5ZuL8maepEg",
        "colab_type": "code",
        "colab": {}
      },
      "source": [
        "X_image_train_n = (X_image_train - np.mean(X_image_train, axis = 0) )/np.ndarray.max(X_image_train, axis = 0)\n",
        "X_tag_train_n = (X_tag_train - np.mean(X_tag_train, axis = 0))/np.ndarray.max(X_tag_train, axis = 0)"
      ],
      "execution_count": 0,
      "outputs": []
    },
    {
      "cell_type": "code",
      "metadata": {
        "id": "ajI4tJqAyZMl",
        "colab_type": "code",
        "outputId": "3194b9d2-d4e1-4f97-a62b-19781944e3d7",
        "colab": {
          "base_uri": "https://localhost:8080/",
          "height": 34
        }
      },
      "source": [
        "np.shape(y_train)"
      ],
      "execution_count": 0,
      "outputs": [
        {
          "output_type": "execute_result",
          "data": {
            "text/plain": [
              "(2120,)"
            ]
          },
          "metadata": {
            "tags": []
          },
          "execution_count": 89
        }
      ]
    },
    {
      "cell_type": "code",
      "metadata": {
        "id": "ZjFFcjefcx0e",
        "colab_type": "code",
        "outputId": "8544b639-209e-4dc3-9474-803efa6e699e",
        "colab": {
          "base_uri": "https://localhost:8080/",
          "height": 34
        }
      },
      "source": [
        "X_image_train[0].shape"
      ],
      "execution_count": 0,
      "outputs": [
        {
          "output_type": "execute_result",
          "data": {
            "text/plain": [
              "(150, 150, 3)"
            ]
          },
          "metadata": {
            "tags": []
          },
          "execution_count": 113
        }
      ]
    },
    {
      "cell_type": "code",
      "metadata": {
        "id": "TVfery3BkgjY",
        "colab_type": "code",
        "colab": {}
      },
      "source": [
        "perm = np.arange(y_train.shape[0])\n",
        "np.random.shuffle(perm)\n",
        "X_image_train = X_image_train[perm]\n",
        "X_tag_train   = X_tag_train[perm]\n",
        "y_train       = y_train[perm]"
      ],
      "execution_count": 0,
      "outputs": []
    },
    {
      "cell_type": "code",
      "metadata": {
        "id": "iJeYHgqqkgja",
        "colab_type": "code",
        "outputId": "472cc493-793b-49a0-d52f-51b0462028d9",
        "colab": {
          "base_uri": "https://localhost:8080/",
          "height": 34
        }
      },
      "source": [
        "X_image_train.shape, X_tag_train.shape, y_train.shape"
      ],
      "execution_count": 0,
      "outputs": [
        {
          "output_type": "execute_result",
          "data": {
            "text/plain": [
              "((2120, 150, 150, 3), (2120,), (2120,))"
            ]
          },
          "metadata": {
            "tags": []
          },
          "execution_count": 115
        }
      ]
    },
    {
      "cell_type": "code",
      "metadata": {
        "id": "41ZqW5uIhTue",
        "colab_type": "code",
        "colab": {}
      },
      "source": [
        "X_image_tr = X_image_train[:1700]\n",
        "X_image_te = X_image_train[1700:1900]\n",
        "X_image_val = X_image_train[1900:]\n",
        "X_tag_tr = X_tag_train[:1700]\n",
        "X_tag_te = X_tag_train[1700:1900]\n",
        "X_tag_val = X_tag_train[1900:]\n",
        "y_tr = y_train[:1700]\n",
        "y_te = y_train[1700:1900]\n",
        "y_val = y_train[1900:]"
      ],
      "execution_count": 0,
      "outputs": []
    },
    {
      "cell_type": "code",
      "metadata": {
        "id": "XaxFt02fkgjc",
        "colab_type": "code",
        "outputId": "c2f4cf9f-cb76-4cd0-c788-23618518a419",
        "colab": {
          "base_uri": "https://localhost:8080/",
          "height": 365
        }
      },
      "source": [
        "model.fit([X_image_tr, X_tag_tr], y_tr, epochs=10, batch_size=64)"
      ],
      "execution_count": 0,
      "outputs": [
        {
          "output_type": "stream",
          "text": [
            "Epoch 1/10\n",
            " 384/1700 [=====>........................] - ETA: 18:24 - loss: 8.0171 - acc: 0.5026"
          ],
          "name": "stdout"
        },
        {
          "output_type": "error",
          "ename": "KeyboardInterrupt",
          "evalue": "ignored",
          "traceback": [
            "\u001b[0;31m---------------------------------------------------------------------------\u001b[0m",
            "\u001b[0;31mKeyboardInterrupt\u001b[0m                         Traceback (most recent call last)",
            "\u001b[0;32m<ipython-input-123-cfddf48d0923>\u001b[0m in \u001b[0;36m<module>\u001b[0;34m()\u001b[0m\n\u001b[0;32m----> 1\u001b[0;31m \u001b[0mmodel\u001b[0m\u001b[0;34m.\u001b[0m\u001b[0mfit\u001b[0m\u001b[0;34m(\u001b[0m\u001b[0;34m[\u001b[0m\u001b[0mX_image_tr\u001b[0m\u001b[0;34m,\u001b[0m \u001b[0mX_tag_tr\u001b[0m\u001b[0;34m]\u001b[0m\u001b[0;34m,\u001b[0m \u001b[0my_tr\u001b[0m\u001b[0;34m,\u001b[0m \u001b[0mepochs\u001b[0m\u001b[0;34m=\u001b[0m\u001b[0;36m10\u001b[0m\u001b[0;34m,\u001b[0m \u001b[0mbatch_size\u001b[0m\u001b[0;34m=\u001b[0m\u001b[0;36m64\u001b[0m\u001b[0;34m)\u001b[0m\u001b[0;34m\u001b[0m\u001b[0;34m\u001b[0m\u001b[0m\n\u001b[0m",
            "\u001b[0;32m/usr/local/lib/python3.6/dist-packages/keras/engine/training.py\u001b[0m in \u001b[0;36mfit\u001b[0;34m(self, x, y, batch_size, epochs, verbose, callbacks, validation_split, validation_data, shuffle, class_weight, sample_weight, initial_epoch, steps_per_epoch, validation_steps, validation_freq, max_queue_size, workers, use_multiprocessing, **kwargs)\u001b[0m\n\u001b[1;32m   1176\u001b[0m                                         \u001b[0msteps_per_epoch\u001b[0m\u001b[0;34m=\u001b[0m\u001b[0msteps_per_epoch\u001b[0m\u001b[0;34m,\u001b[0m\u001b[0;34m\u001b[0m\u001b[0;34m\u001b[0m\u001b[0m\n\u001b[1;32m   1177\u001b[0m                                         \u001b[0mvalidation_steps\u001b[0m\u001b[0;34m=\u001b[0m\u001b[0mvalidation_steps\u001b[0m\u001b[0;34m,\u001b[0m\u001b[0;34m\u001b[0m\u001b[0;34m\u001b[0m\u001b[0m\n\u001b[0;32m-> 1178\u001b[0;31m                                         validation_freq=validation_freq)\n\u001b[0m\u001b[1;32m   1179\u001b[0m \u001b[0;34m\u001b[0m\u001b[0m\n\u001b[1;32m   1180\u001b[0m     def evaluate(self,\n",
            "\u001b[0;32m/usr/local/lib/python3.6/dist-packages/keras/engine/training_arrays.py\u001b[0m in \u001b[0;36mfit_loop\u001b[0;34m(model, fit_function, fit_inputs, out_labels, batch_size, epochs, verbose, callbacks, val_function, val_inputs, shuffle, callback_metrics, initial_epoch, steps_per_epoch, validation_steps, validation_freq)\u001b[0m\n\u001b[1;32m    202\u001b[0m                     \u001b[0mins_batch\u001b[0m\u001b[0;34m[\u001b[0m\u001b[0mi\u001b[0m\u001b[0;34m]\u001b[0m \u001b[0;34m=\u001b[0m \u001b[0mins_batch\u001b[0m\u001b[0;34m[\u001b[0m\u001b[0mi\u001b[0m\u001b[0;34m]\u001b[0m\u001b[0;34m.\u001b[0m\u001b[0mtoarray\u001b[0m\u001b[0;34m(\u001b[0m\u001b[0;34m)\u001b[0m\u001b[0;34m\u001b[0m\u001b[0;34m\u001b[0m\u001b[0m\n\u001b[1;32m    203\u001b[0m \u001b[0;34m\u001b[0m\u001b[0m\n\u001b[0;32m--> 204\u001b[0;31m                 \u001b[0mouts\u001b[0m \u001b[0;34m=\u001b[0m \u001b[0mfit_function\u001b[0m\u001b[0;34m(\u001b[0m\u001b[0mins_batch\u001b[0m\u001b[0;34m)\u001b[0m\u001b[0;34m\u001b[0m\u001b[0;34m\u001b[0m\u001b[0m\n\u001b[0m\u001b[1;32m    205\u001b[0m                 \u001b[0mouts\u001b[0m \u001b[0;34m=\u001b[0m \u001b[0mto_list\u001b[0m\u001b[0;34m(\u001b[0m\u001b[0mouts\u001b[0m\u001b[0;34m)\u001b[0m\u001b[0;34m\u001b[0m\u001b[0;34m\u001b[0m\u001b[0m\n\u001b[1;32m    206\u001b[0m                 \u001b[0;32mfor\u001b[0m \u001b[0ml\u001b[0m\u001b[0;34m,\u001b[0m \u001b[0mo\u001b[0m \u001b[0;32min\u001b[0m \u001b[0mzip\u001b[0m\u001b[0;34m(\u001b[0m\u001b[0mout_labels\u001b[0m\u001b[0;34m,\u001b[0m \u001b[0mouts\u001b[0m\u001b[0;34m)\u001b[0m\u001b[0;34m:\u001b[0m\u001b[0;34m\u001b[0m\u001b[0;34m\u001b[0m\u001b[0m\n",
            "\u001b[0;32m/usr/local/lib/python3.6/dist-packages/keras/backend/tensorflow_backend.py\u001b[0m in \u001b[0;36m__call__\u001b[0;34m(self, inputs)\u001b[0m\n\u001b[1;32m   2977\u001b[0m                     \u001b[0;32mreturn\u001b[0m \u001b[0mself\u001b[0m\u001b[0;34m.\u001b[0m\u001b[0m_legacy_call\u001b[0m\u001b[0;34m(\u001b[0m\u001b[0minputs\u001b[0m\u001b[0;34m)\u001b[0m\u001b[0;34m\u001b[0m\u001b[0;34m\u001b[0m\u001b[0m\n\u001b[1;32m   2978\u001b[0m \u001b[0;34m\u001b[0m\u001b[0m\n\u001b[0;32m-> 2979\u001b[0;31m             \u001b[0;32mreturn\u001b[0m \u001b[0mself\u001b[0m\u001b[0;34m.\u001b[0m\u001b[0m_call\u001b[0m\u001b[0;34m(\u001b[0m\u001b[0minputs\u001b[0m\u001b[0;34m)\u001b[0m\u001b[0;34m\u001b[0m\u001b[0;34m\u001b[0m\u001b[0m\n\u001b[0m\u001b[1;32m   2980\u001b[0m         \u001b[0;32melse\u001b[0m\u001b[0;34m:\u001b[0m\u001b[0;34m\u001b[0m\u001b[0;34m\u001b[0m\u001b[0m\n\u001b[1;32m   2981\u001b[0m             \u001b[0;32mif\u001b[0m \u001b[0mpy_any\u001b[0m\u001b[0;34m(\u001b[0m\u001b[0mis_tensor\u001b[0m\u001b[0;34m(\u001b[0m\u001b[0mx\u001b[0m\u001b[0;34m)\u001b[0m \u001b[0;32mfor\u001b[0m \u001b[0mx\u001b[0m \u001b[0;32min\u001b[0m \u001b[0minputs\u001b[0m\u001b[0;34m)\u001b[0m\u001b[0;34m:\u001b[0m\u001b[0;34m\u001b[0m\u001b[0;34m\u001b[0m\u001b[0m\n",
            "\u001b[0;32m/usr/local/lib/python3.6/dist-packages/keras/backend/tensorflow_backend.py\u001b[0m in \u001b[0;36m_call\u001b[0;34m(self, inputs)\u001b[0m\n\u001b[1;32m   2935\u001b[0m             \u001b[0mfetched\u001b[0m \u001b[0;34m=\u001b[0m \u001b[0mself\u001b[0m\u001b[0;34m.\u001b[0m\u001b[0m_callable_fn\u001b[0m\u001b[0;34m(\u001b[0m\u001b[0;34m*\u001b[0m\u001b[0marray_vals\u001b[0m\u001b[0;34m,\u001b[0m \u001b[0mrun_metadata\u001b[0m\u001b[0;34m=\u001b[0m\u001b[0mself\u001b[0m\u001b[0;34m.\u001b[0m\u001b[0mrun_metadata\u001b[0m\u001b[0;34m)\u001b[0m\u001b[0;34m\u001b[0m\u001b[0;34m\u001b[0m\u001b[0m\n\u001b[1;32m   2936\u001b[0m         \u001b[0;32melse\u001b[0m\u001b[0;34m:\u001b[0m\u001b[0;34m\u001b[0m\u001b[0;34m\u001b[0m\u001b[0m\n\u001b[0;32m-> 2937\u001b[0;31m             \u001b[0mfetched\u001b[0m \u001b[0;34m=\u001b[0m \u001b[0mself\u001b[0m\u001b[0;34m.\u001b[0m\u001b[0m_callable_fn\u001b[0m\u001b[0;34m(\u001b[0m\u001b[0;34m*\u001b[0m\u001b[0marray_vals\u001b[0m\u001b[0;34m)\u001b[0m\u001b[0;34m\u001b[0m\u001b[0;34m\u001b[0m\u001b[0m\n\u001b[0m\u001b[1;32m   2938\u001b[0m         \u001b[0;32mreturn\u001b[0m \u001b[0mfetched\u001b[0m\u001b[0;34m[\u001b[0m\u001b[0;34m:\u001b[0m\u001b[0mlen\u001b[0m\u001b[0;34m(\u001b[0m\u001b[0mself\u001b[0m\u001b[0;34m.\u001b[0m\u001b[0moutputs\u001b[0m\u001b[0;34m)\u001b[0m\u001b[0;34m]\u001b[0m\u001b[0;34m\u001b[0m\u001b[0;34m\u001b[0m\u001b[0m\n\u001b[1;32m   2939\u001b[0m \u001b[0;34m\u001b[0m\u001b[0m\n",
            "\u001b[0;32m/usr/local/lib/python3.6/dist-packages/tensorflow_core/python/client/session.py\u001b[0m in \u001b[0;36m__call__\u001b[0;34m(self, *args, **kwargs)\u001b[0m\n\u001b[1;32m   1470\u001b[0m         ret = tf_session.TF_SessionRunCallable(self._session._session,\n\u001b[1;32m   1471\u001b[0m                                                \u001b[0mself\u001b[0m\u001b[0;34m.\u001b[0m\u001b[0m_handle\u001b[0m\u001b[0;34m,\u001b[0m \u001b[0margs\u001b[0m\u001b[0;34m,\u001b[0m\u001b[0;34m\u001b[0m\u001b[0;34m\u001b[0m\u001b[0m\n\u001b[0;32m-> 1472\u001b[0;31m                                                run_metadata_ptr)\n\u001b[0m\u001b[1;32m   1473\u001b[0m         \u001b[0;32mif\u001b[0m \u001b[0mrun_metadata\u001b[0m\u001b[0;34m:\u001b[0m\u001b[0;34m\u001b[0m\u001b[0;34m\u001b[0m\u001b[0m\n\u001b[1;32m   1474\u001b[0m           \u001b[0mproto_data\u001b[0m \u001b[0;34m=\u001b[0m \u001b[0mtf_session\u001b[0m\u001b[0;34m.\u001b[0m\u001b[0mTF_GetBuffer\u001b[0m\u001b[0;34m(\u001b[0m\u001b[0mrun_metadata_ptr\u001b[0m\u001b[0;34m)\u001b[0m\u001b[0;34m\u001b[0m\u001b[0;34m\u001b[0m\u001b[0m\n",
            "\u001b[0;31mKeyboardInterrupt\u001b[0m: "
          ]
        }
      ]
    },
    {
      "cell_type": "code",
      "metadata": {
        "id": "KjNd5TWRkgjd",
        "colab_type": "code",
        "colab": {}
      },
      "source": [
        "from keras.models import model_from_json\n",
        "\n",
        "# serialize model to JSON\n",
        "model_json = model.to_json()\n",
        "with open(\"multi-input-models-epoch-30.json\", \"w\") as json_file:\n",
        "    json_file.write(model_json)\n",
        "# serialize weights to HDF5\n",
        "model.save_weights(\"multi-input-models-epoch-30.h5\")\n",
        "print(\"Saved model to disk\")\n",
        " \n",
        "# load json and create model\n",
        "json_file = open('multi-input-models-epoch-30.json', 'r')\n",
        "loaded_model_json = json_file.read()\n",
        "json_file.close()\n",
        "\n",
        "loaded_model = model_from_json(loaded_model_json)\n",
        "# load weights into new model\n",
        "loaded_model.load_weights(\"multi-input-models-epoch-30.h5\")\n",
        "print(\"Loaded model from disk\")"
      ],
      "execution_count": 0,
      "outputs": []
    }
  ]
}